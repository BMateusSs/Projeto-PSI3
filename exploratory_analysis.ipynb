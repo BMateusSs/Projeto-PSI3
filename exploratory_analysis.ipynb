{
  "cells": [
    {
      "cell_type": "markdown",
      "metadata": {
        "id": "view-in-github",
        "colab_type": "text"
      },
      "source": [
        "<a href=\"https://colab.research.google.com/github/BMateusSs/Projeto-PISI3/blob/main/exploratory_analysis.ipynb\" target=\"_parent\"><img src=\"https://colab.research.google.com/assets/colab-badge.svg\" alt=\"Open In Colab\"/></a>"
      ]
    },
    {
      "cell_type": "code",
      "execution_count": 2,
      "id": "d3e777fc318e6214",
      "metadata": {
        "ExecuteTime": {
          "end_time": "2025-05-14T13:05:16.957413Z",
          "start_time": "2025-05-14T13:05:16.950808Z"
        },
        "id": "d3e777fc318e6214",
        "outputId": "443eb941-9316-418b-8164-c1dce12d42f9",
        "colab": {
          "base_uri": "https://localhost:8080/"
        }
      },
      "outputs": [
        {
          "output_type": "stream",
          "name": "stderr",
          "text": [
            "<ipython-input-2-21128e1e1e71>:10: DeprecationWarning: load_dataset is deprecated and will be removed in a future version.\n",
            "  df = kagglehub.load_dataset(\n"
          ]
        },
        {
          "output_type": "stream",
          "name": "stdout",
          "text": [
            "First 5 records:\n",
            "   Unnamed: 0   country                                        description  \\\n",
            "0           0     Italy  Aromas include tropical fruit, broom, brimston...   \n",
            "1           1  Portugal  This is ripe and fruity, a wine that is smooth...   \n",
            "2           2        US  Tart and snappy, the flavors of lime flesh and...   \n",
            "3           3        US  Pineapple rind, lemon pith and orange blossom ...   \n",
            "4           4        US  Much like the regular bottling from 2012, this...   \n",
            "\n",
            "                          designation  points  price           province  \\\n",
            "0                        Vulkà Bianco      87    NaN  Sicily & Sardinia   \n",
            "1                            Avidagos      87   15.0              Douro   \n",
            "2                                 NaN      87   14.0             Oregon   \n",
            "3                Reserve Late Harvest      87   13.0           Michigan   \n",
            "4  Vintner's Reserve Wild Child Block      87   65.0             Oregon   \n",
            "\n",
            "              region_1           region_2         taster_name  \\\n",
            "0                 Etna                NaN       Kerin O’Keefe   \n",
            "1                  NaN                NaN          Roger Voss   \n",
            "2    Willamette Valley  Willamette Valley        Paul Gregutt   \n",
            "3  Lake Michigan Shore                NaN  Alexander Peartree   \n",
            "4    Willamette Valley  Willamette Valley        Paul Gregutt   \n",
            "\n",
            "  taster_twitter_handle                                              title  \\\n",
            "0          @kerinokeefe                  Nicosia 2013 Vulkà Bianco  (Etna)   \n",
            "1            @vossroger      Quinta dos Avidagos 2011 Avidagos Red (Douro)   \n",
            "2           @paulgwine       Rainstorm 2013 Pinot Gris (Willamette Valley)   \n",
            "3                   NaN  St. Julian 2013 Reserve Late Harvest Riesling ...   \n",
            "4           @paulgwine   Sweet Cheeks 2012 Vintner's Reserve Wild Child...   \n",
            "\n",
            "          variety               winery  \n",
            "0     White Blend              Nicosia  \n",
            "1  Portuguese Red  Quinta dos Avidagos  \n",
            "2      Pinot Gris            Rainstorm  \n",
            "3        Riesling           St. Julian  \n",
            "4      Pinot Noir         Sweet Cheeks  \n"
          ]
        }
      ],
      "source": [
        "# Install dependencies as needed:\n",
        "import kagglehub\n",
        "from kagglehub import KaggleDatasetAdapter\n",
        "\n",
        "# Set the path to the file you'd like to load\n",
        "file_path = \"winemag-data-130k-v2.csv\"\n",
        "\n",
        "# Load the latest version\n",
        "df = kagglehub.load_dataset(\n",
        "  KaggleDatasetAdapter.PANDAS,\n",
        "  \"zynicide/wine-reviews\",\n",
        "  file_path\n",
        ")"
      ]
    }
  ],
  "metadata": {
    "kernelspec": {
      "display_name": "Python 3",
      "language": "python",
      "name": "python3"
    },
    "language_info": {
      "codemirror_mode": {
        "name": "ipython",
        "version": 3
      },
      "file_extension": ".py",
      "mimetype": "text/x-python",
      "name": "python",
      "nbconvert_exporter": "python",
      "pygments_lexer": "ipython3",
      "version": "3.12.3"
    },
    "colab": {
      "provenance": [],
      "include_colab_link": true
    }
  },
  "nbformat": 4,
  "nbformat_minor": 5
}