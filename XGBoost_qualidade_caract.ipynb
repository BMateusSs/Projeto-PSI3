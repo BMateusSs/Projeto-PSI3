{
  "nbformat": 4,
  "nbformat_minor": 0,
  "metadata": {
    "colab": {
      "provenance": []
    },
    "kernelspec": {
      "name": "python3",
      "display_name": "Python 3"
    },
    "language_info": {
      "name": "python"
    }
  },
  "cells": [
    {
      "cell_type": "markdown",
      "source": [
        "Carregar o Dataset"
      ],
      "metadata": {
        "id": "embu3pw8_dEM"
      }
    },
    {
      "cell_type": "code",
      "execution_count": 1,
      "metadata": {
        "colab": {
          "base_uri": "https://localhost:8080/"
        },
        "id": "TlrtTk9NGbHa",
        "outputId": "e4a87d2c-51f0-4b56-e255-9924393e095a"
      },
      "outputs": [
        {
          "output_type": "stream",
          "name": "stderr",
          "text": [
            "/tmp/ipython-input-1-2451034981.py:19: DeprecationWarning: load_dataset is deprecated and will be removed in a future version.\n",
            "  df_raw_combined_wine = kagglehub.load_dataset(\n"
          ]
        },
        {
          "output_type": "stream",
          "name": "stdout",
          "text": [
            "DataFrame salvo com sucesso em formato Parquet: data/processed/wine-quality-combined.parquet\n"
          ]
        }
      ],
      "source": [
        "import kagglehub\n",
        "import pandas as pd\n",
        "from kagglehub import KaggleDatasetAdapter\n",
        "import matplotlib.pyplot as plt\n",
        "import seaborn as sns\n",
        "from sklearn.preprocessing import StandardScaler\n",
        "from sklearn.model_selection import train_test_split\n",
        "from sklearn.ensemble import RandomForestClassifier\n",
        "from sklearn.metrics import classification_report, confusion_matrix, roc_auc_score, roc_curve, ConfusionMatrixDisplay\n",
        "from imblearn.over_sampling import SMOTE\n",
        "import os\n",
        "import numpy as np\n",
        "\n",
        "# --- Carregamento do Dataset Combinado Diretamente do Kaggle Hub ---\n",
        "wine_dataset_slug = \"ruthgn/wine-quality-data-set-red-white-wine\"\n",
        "wine_file_name = \"wine-quality-white-and-red.csv\"\n",
        "\n",
        "# Carrega o arquivo CSV diretamente para um DataFrame do Pandas\n",
        "df_raw_combined_wine = kagglehub.load_dataset(\n",
        "    KaggleDatasetAdapter.PANDAS,\n",
        "    wine_dataset_slug,\n",
        "    wine_file_name\n",
        ")\n",
        "\n",
        "# --- Salvando para Parquet (Boa prática para reusabilidade e performance) ---\n",
        "output_dir = \"data/processed\"\n",
        "os.makedirs(output_dir, exist_ok=True)\n",
        "parquet_path = os.path.join(output_dir, \"wine-quality-combined.parquet\")\n",
        "\n",
        "df_raw_combined_wine.to_parquet(parquet_path, engine=\"pyarrow\", index=False)\n",
        "print(f\"DataFrame salvo com sucesso em formato Parquet: {parquet_path}\")"
      ]
    },
    {
      "cell_type": "markdown",
      "source": [
        "Ler o Dataset"
      ],
      "metadata": {
        "id": "s-QOSPzq_lPM"
      }
    },
    {
      "cell_type": "code",
      "source": [
        "df_wine = pd.read_parquet(parquet_path)\n",
        "\n",
        "print(\"\\n--- Primeiras 5 linhas do DataFrame principal (carregado do Parquet) ---\")\n",
        "print(df_wine.head())\n",
        "\n",
        "print(\"\\n--- Informações gerais do DataFrame principal ---\")\n",
        "df_wine.info()\n",
        "\n",
        "print(\"\\n--- Verificando valores ausentes no DataFrame principal ---\")\n",
        "print(df_wine.isnull().sum())"
      ],
      "metadata": {
        "colab": {
          "base_uri": "https://localhost:8080/"
        },
        "id": "KTSka40iGj-O",
        "outputId": "14e014f8-a572-4ce6-9dbe-840b775fb354"
      },
      "execution_count": 2,
      "outputs": [
        {
          "output_type": "stream",
          "name": "stdout",
          "text": [
            "\n",
            "--- Primeiras 5 linhas do DataFrame principal (carregado do Parquet) ---\n",
            "    type  fixed acidity  volatile acidity  citric acid  residual sugar  \\\n",
            "0  white            7.0              0.27         0.36            20.7   \n",
            "1  white            6.3              0.30         0.34             1.6   \n",
            "2  white            8.1              0.28         0.40             6.9   \n",
            "3  white            7.2              0.23         0.32             8.5   \n",
            "4  white            7.2              0.23         0.32             8.5   \n",
            "\n",
            "   chlorides  free sulfur dioxide  total sulfur dioxide  density    pH  \\\n",
            "0      0.045                 45.0                 170.0   1.0010  3.00   \n",
            "1      0.049                 14.0                 132.0   0.9940  3.30   \n",
            "2      0.050                 30.0                  97.0   0.9951  3.26   \n",
            "3      0.058                 47.0                 186.0   0.9956  3.19   \n",
            "4      0.058                 47.0                 186.0   0.9956  3.19   \n",
            "\n",
            "   sulphates  alcohol  quality  \n",
            "0       0.45      8.8        6  \n",
            "1       0.49      9.5        6  \n",
            "2       0.44     10.1        6  \n",
            "3       0.40      9.9        6  \n",
            "4       0.40      9.9        6  \n",
            "\n",
            "--- Informações gerais do DataFrame principal ---\n",
            "<class 'pandas.core.frame.DataFrame'>\n",
            "RangeIndex: 6497 entries, 0 to 6496\n",
            "Data columns (total 13 columns):\n",
            " #   Column                Non-Null Count  Dtype  \n",
            "---  ------                --------------  -----  \n",
            " 0   type                  6497 non-null   object \n",
            " 1   fixed acidity         6497 non-null   float64\n",
            " 2   volatile acidity      6497 non-null   float64\n",
            " 3   citric acid           6497 non-null   float64\n",
            " 4   residual sugar        6497 non-null   float64\n",
            " 5   chlorides             6497 non-null   float64\n",
            " 6   free sulfur dioxide   6497 non-null   float64\n",
            " 7   total sulfur dioxide  6497 non-null   float64\n",
            " 8   density               6497 non-null   float64\n",
            " 9   pH                    6497 non-null   float64\n",
            " 10  sulphates             6497 non-null   float64\n",
            " 11  alcohol               6497 non-null   float64\n",
            " 12  quality               6497 non-null   int64  \n",
            "dtypes: float64(11), int64(1), object(1)\n",
            "memory usage: 660.0+ KB\n",
            "\n",
            "--- Verificando valores ausentes no DataFrame principal ---\n",
            "type                    0\n",
            "fixed acidity           0\n",
            "volatile acidity        0\n",
            "citric acid             0\n",
            "residual sugar          0\n",
            "chlorides               0\n",
            "free sulfur dioxide     0\n",
            "total sulfur dioxide    0\n",
            "density                 0\n",
            "pH                      0\n",
            "sulphates               0\n",
            "alcohol                 0\n",
            "quality                 0\n",
            "dtype: int64\n"
          ]
        }
      ]
    },
    {
      "cell_type": "code",
      "source": [
        "df_processed_features = df_wine.copy()\n",
        "df_processed_features = pd.get_dummies(df_processed_features, columns=['type'], drop_first=True, dtype=int)\n",
        "\n",
        "print(\"\\n--- Primeiras 5 linhas do DataFrame após One-Hot Encoding de 'type' ---\")\n",
        "print(df_processed_features.head())"
      ],
      "metadata": {
        "colab": {
          "base_uri": "https://localhost:8080/"
        },
        "id": "Eys0MTnDGn8l",
        "outputId": "33e4e69a-a32f-4f70-f44f-6e797611c880"
      },
      "execution_count": 3,
      "outputs": [
        {
          "output_type": "stream",
          "name": "stdout",
          "text": [
            "\n",
            "--- Primeiras 5 linhas do DataFrame após One-Hot Encoding de 'type' ---\n",
            "   fixed acidity  volatile acidity  citric acid  residual sugar  chlorides  \\\n",
            "0            7.0              0.27         0.36            20.7      0.045   \n",
            "1            6.3              0.30         0.34             1.6      0.049   \n",
            "2            8.1              0.28         0.40             6.9      0.050   \n",
            "3            7.2              0.23         0.32             8.5      0.058   \n",
            "4            7.2              0.23         0.32             8.5      0.058   \n",
            "\n",
            "   free sulfur dioxide  total sulfur dioxide  density    pH  sulphates  \\\n",
            "0                 45.0                 170.0   1.0010  3.00       0.45   \n",
            "1                 14.0                 132.0   0.9940  3.30       0.49   \n",
            "2                 30.0                  97.0   0.9951  3.26       0.44   \n",
            "3                 47.0                 186.0   0.9956  3.19       0.40   \n",
            "4                 47.0                 186.0   0.9956  3.19       0.40   \n",
            "\n",
            "   alcohol  quality  type_white  \n",
            "0      8.8        6           1  \n",
            "1      9.5        6           1  \n",
            "2     10.1        6           1  \n",
            "3      9.9        6           1  \n",
            "4      9.9        6           1  \n"
          ]
        }
      ]
    },
    {
      "cell_type": "markdown",
      "source": [
        "Divisão binária entre Vinhos bons e Vinhos ruins"
      ],
      "metadata": {
        "id": "_5UetTON_yfj"
      }
    },
    {
      "cell_type": "code",
      "source": [
        "df_processed_features['good_quality'] = df_processed_features['quality'].apply(lambda x: 1 if x >= 6 else 0)\n",
        "features_cols_no_engineering = df_processed_features.drop(['quality', 'good_quality'], axis=1).columns\n",
        "\n",
        "X = df_processed_features[features_cols_no_engineering].copy()\n",
        "y = df_processed_features['good_quality']\n",
        "\n",
        "print(f\"\\nShape das Features (X) (SEM Engenharia de Features): {X.shape}\")"
      ],
      "metadata": {
        "colab": {
          "base_uri": "https://localhost:8080/"
        },
        "id": "1Jxh4botGwB0",
        "outputId": "e83551fe-7f8e-495c-9a4b-1bf75a6d9654"
      },
      "execution_count": 4,
      "outputs": [
        {
          "output_type": "stream",
          "name": "stdout",
          "text": [
            "\n",
            "Shape das Features (X) (SEM Engenharia de Features): (6497, 12)\n"
          ]
        }
      ]
    },
    {
      "cell_type": "markdown",
      "source": [
        "Escalonamento"
      ],
      "metadata": {
        "id": "INviBfy4_6UV"
      }
    },
    {
      "cell_type": "code",
      "source": [
        "scaler = StandardScaler()\n",
        "X_scaled = scaler.fit_transform(X)\n",
        "X_scaled_df = pd.DataFrame(X_scaled, columns=X.columns)\n",
        "\n",
        "print(\"\\n--- Primeiras 5 linhas das Features Escalonadas (X_scaled_df) (SEM Engenharia de Features) ---\")\n",
        "print(X_scaled_df.head())\n",
        "print(\"\\n--- Média e Desvio Padrão das Features Escalonadas (devem ser próximos de 0 e 1) ---\")\n",
        "print(X_scaled_df.describe().loc[['mean', 'std']])"
      ],
      "metadata": {
        "colab": {
          "base_uri": "https://localhost:8080/"
        },
        "id": "z7XoOT6TIvEl",
        "outputId": "d81d2166-8114-41d9-bdc9-388bb8fc8b8c"
      },
      "execution_count": 5,
      "outputs": [
        {
          "output_type": "stream",
          "name": "stdout",
          "text": [
            "\n",
            "--- Primeiras 5 linhas das Features Escalonadas (X_scaled_df) (SEM Engenharia de Features) ---\n",
            "   fixed acidity  volatile acidity  citric acid  residual sugar  chlorides  \\\n",
            "0      -0.166089         -0.423183     0.284686        3.206929  -0.314975   \n",
            "1      -0.706073         -0.240949     0.147046       -0.807837  -0.200790   \n",
            "2       0.682458         -0.362438     0.559966        0.306208  -0.172244   \n",
            "3      -0.011808         -0.666161     0.009406        0.642523   0.056126   \n",
            "4      -0.011808         -0.666161     0.009406        0.642523   0.056126   \n",
            "\n",
            "   free sulfur dioxide  total sulfur dioxide   density        pH  sulphates  \\\n",
            "0             0.815565              0.959976  2.102214 -1.359049  -0.546178   \n",
            "1            -0.931107              0.287618 -0.232332  0.506915  -0.277351   \n",
            "2            -0.029599             -0.331660  0.134525  0.258120  -0.613385   \n",
            "3             0.928254              1.243074  0.301278 -0.177272  -0.882212   \n",
            "4             0.928254              1.243074  0.301278 -0.177272  -0.882212   \n",
            "\n",
            "    alcohol  type_white  \n",
            "0 -1.418558    0.571367  \n",
            "1 -0.831615    0.571367  \n",
            "2 -0.328521    0.571367  \n",
            "3 -0.496219    0.571367  \n",
            "4 -0.496219    0.571367  \n",
            "\n",
            "--- Média e Desvio Padrão das Features Escalonadas (devem ser próximos de 0 e 1) ---\n",
            "      fixed acidity  volatile acidity   citric acid  residual sugar  \\\n",
            "mean   2.624754e-16     -2.449770e-16  3.499672e-17    6.999344e-17   \n",
            "std    1.000077e+00      1.000077e+00  1.000077e+00    1.000077e+00   \n",
            "\n",
            "      chlorides  free sulfur dioxide  total sulfur dioxide       density  \\\n",
            "mean   0.000000        -8.749179e-17              0.000000 -3.560916e-15   \n",
            "std    1.000077         1.000077e+00              1.000077  1.000077e+00   \n",
            "\n",
            "                pH     sulphates       alcohol    type_white  \n",
            "mean  2.738493e-15  2.099803e-16 -8.399212e-16  1.049902e-16  \n",
            "std   1.000077e+00  1.000077e+00  1.000077e+00  1.000077e+00  \n"
          ]
        }
      ]
    },
    {
      "cell_type": "markdown",
      "source": [
        "Treino e Teste antes do balanceamento"
      ],
      "metadata": {
        "id": "gOFM3jDO_9s8"
      }
    },
    {
      "cell_type": "code",
      "source": [
        "X_train, X_test, y_train, y_test = train_test_split(X_scaled_df, y, test_size=0.2, random_state=42, stratify=y)\n",
        "\n",
        "print(f\"Shape de X_train: {X_train.shape}\")\n",
        "print(f\"Shape de X_test: {X_test.shape}\")\n",
        "print(f\"Shape de y_train: {y_train.shape}\")\n",
        "print(f\"Shape de y_test: {y_test.shape}\")\n",
        "\n",
        "print(\"\\n--- Proporção das classes em y_train (pré-balanceamento) ---\")\n",
        "print(y_train.value_counts(normalize=True))\n",
        "print(\"\\n--- Proporção das classes em y_test ---\")\n",
        "print(y_test.value_counts(normalize=True))"
      ],
      "metadata": {
        "colab": {
          "base_uri": "https://localhost:8080/"
        },
        "id": "A7BC5jtbIwLz",
        "outputId": "70921d40-dc65-48ca-c0ee-f9196ff1e79b"
      },
      "execution_count": 6,
      "outputs": [
        {
          "output_type": "stream",
          "name": "stdout",
          "text": [
            "Shape de X_train: (5197, 12)\n",
            "Shape de X_test: (1300, 12)\n",
            "Shape de y_train: (5197,)\n",
            "Shape de y_test: (1300,)\n",
            "\n",
            "--- Proporção das classes em y_train (pré-balanceamento) ---\n",
            "good_quality\n",
            "1    0.633058\n",
            "0    0.366942\n",
            "Name: proportion, dtype: float64\n",
            "\n",
            "--- Proporção das classes em y_test ---\n",
            "good_quality\n",
            "1    0.633077\n",
            "0    0.366923\n",
            "Name: proportion, dtype: float64\n"
          ]
        }
      ]
    },
    {
      "cell_type": "markdown",
      "source": [
        "As células abaixo devem ser rodadas de acordo com o método de balanceamento escolhido (apenas um)"
      ],
      "metadata": {
        "id": "wen1z2-jqevW"
      }
    },
    {
      "cell_type": "code",
      "source": [
        "# (Pro SMOTE):\n",
        "from imblearn.over_sampling import SMOTE\n",
        "smote = SMOTE(random_state=42)\n",
        "X_train_resampled, y_train_resampled = smote.fit_resample(X_train, y_train)\n",
        "metodo_balanceamento = 'SMOTE'"
      ],
      "metadata": {
        "id": "vR6OUC7dqZFG"
      },
      "execution_count": null,
      "outputs": []
    },
    {
      "cell_type": "code",
      "source": [
        "# ADASYN\n",
        "from imblearn.over_sampling import ADASYN\n",
        "adasyn = ADASYN(random_state=42)\n",
        "X_train_resampled, y_train_resampled = adasyn.fit_resample(X_train, y_train)\n",
        "\n",
        "print(\"\\n--- Shape de X_train após ADASYN ---\")\n",
        "print(X_train_resampled.shape)\n",
        "print(\"\\n--- Contagem de classes em y_train_resampled (após ADASYN) ---\")\n",
        "print(y_train_resampled.value_counts())\n",
        "metodo_balanceamento = 'ADASYN'"
      ],
      "metadata": {
        "id": "ieaLzROxIy4m",
        "colab": {
          "base_uri": "https://localhost:8080/"
        },
        "outputId": "1e86d763-9e84-4e2d-80e3-c6b5b8740395"
      },
      "execution_count": 7,
      "outputs": [
        {
          "output_type": "stream",
          "name": "stdout",
          "text": [
            "\n",
            "--- Shape de X_train após ADASYN ---\n",
            "(6478, 12)\n",
            "\n",
            "--- Contagem de classes em y_train_resampled (após ADASYN) ---\n",
            "good_quality\n",
            "1    3290\n",
            "0    3188\n",
            "Name: count, dtype: int64\n"
          ]
        }
      ]
    },
    {
      "cell_type": "code",
      "source": [
        "# (Pro SMOTEENN):\n",
        "from imblearn.combine import SMOTEENN\n",
        "smoteenn = SMOTEENN(random_state=42)\n",
        "X_train_resampled, y_train_resampled = smoteenn.fit_resample(X_train, y_train)\n",
        "\n",
        "metodo_balanceamento = 'SMOTEENN'"
      ],
      "metadata": {
        "id": "ulama7Q1rFAX"
      },
      "execution_count": null,
      "outputs": []
    },
    {
      "cell_type": "markdown",
      "source": [
        "Usar Grid Search para obter os melhores parâmetros"
      ],
      "metadata": {
        "id": "iFo02uiyADAT"
      }
    },
    {
      "cell_type": "code",
      "source": [
        "from sklearn.model_selection import GridSearchCV\n",
        "import xgboost as xgb\n",
        "\n",
        "xgb_base = xgb.XGBClassifier(\n",
        "    objective='binary:logistic',\n",
        "    eval_metric='logloss',\n",
        "    random_state=42\n",
        ")\n",
        "\n",
        "param_grid = {\n",
        "    'n_estimators': [50, 100, 150],\n",
        "    'max_depth': [3, 5],\n",
        "    'learning_rate': [0.01, 0.1, 0.2],\n",
        "    'subsample': [0.8, 1.0],\n",
        "    'colsample_bytree': [0.8, 1.0],\n",
        "    'gamma': [0, 0.1, 0.2],\n",
        "    'reg_alpha': [0, 0.1, 0.5],\n",
        "    'reg_lambda': [1, 0.5, 0.1]\n",
        "}\n",
        "\n",
        "grid_search = GridSearchCV(\n",
        "    estimator=xgb_base,\n",
        "    param_grid=param_grid,\n",
        "    scoring='accuracy',\n",
        "    cv=5,\n",
        "    n_jobs=-1,\n",
        "    verbose=1\n",
        ")\n",
        "\n",
        "grid_search.fit(X_train_resampled, y_train_resampled)\n",
        "\n",
        "print(\"Melhores parâmetros encontrados:\")\n",
        "print(grid_search.best_params_)\n",
        "print(f\"Melhor acurácia CV: {grid_search.best_score_:.4f}\")"
      ],
      "metadata": {
        "id": "KciN59LZJ3Lm",
        "colab": {
          "base_uri": "https://localhost:8080/"
        },
        "outputId": "c7aafed9-e3c8-4a73-b2d9-69e7bd0a08d4"
      },
      "execution_count": 8,
      "outputs": [
        {
          "output_type": "stream",
          "name": "stdout",
          "text": [
            "Fitting 5 folds for each of 1944 candidates, totalling 9720 fits\n",
            "Melhores parâmetros encontrados:\n",
            "{'colsample_bytree': 1.0, 'gamma': 0, 'learning_rate': 0.2, 'max_depth': 5, 'n_estimators': 150, 'reg_alpha': 0, 'reg_lambda': 0.5, 'subsample': 0.8}\n",
            "Melhor acurácia CV: 0.8291\n"
          ]
        }
      ]
    },
    {
      "cell_type": "code",
      "source": [
        "melhores_params = grid_search.best_params_\n",
        "\n",
        "xgb_model = xgb.XGBClassifier(\n",
        "    objective='binary:logistic',\n",
        "    eval_metric='logloss',\n",
        "    random_state=42,\n",
        "    **melhores_params\n",
        ")\n",
        "\n",
        "xgb_model.fit(X_train_resampled, y_train_resampled)\n",
        "y_pred_proba = xgb_model.predict_proba(X_test)[:, 1]\n",
        "y_pred = xgb_model.predict(X_test)"
      ],
      "metadata": {
        "id": "29KVpai1bC5D"
      },
      "execution_count": 9,
      "outputs": []
    },
    {
      "cell_type": "markdown",
      "source": [
        "Resultados e Gráficos"
      ],
      "metadata": {
        "id": "DYa8aICVAId7"
      }
    },
    {
      "cell_type": "code",
      "source": [
        "from sklearn.metrics import classification_report, accuracy_score\n",
        "import pandas as pd\n",
        "\n",
        "def gera_relatorio_completo(modelo, X, y, nome):\n",
        "    y_pred = modelo.predict(X)\n",
        "    report = classification_report(y, y_pred, output_dict=True)\n",
        "    acc = accuracy_score(y, y_pred)\n",
        "\n",
        "    df_rep = pd.DataFrame(report).T\n",
        "    df_rep = df_rep.loc[['0', '1', 'macro avg', 'weighted avg'], ['precision','recall','f1-score','support']]\n",
        "    df_rep.index = ['Vinhos Ruins','Vinhos Bons','Média Simples','Média Ponderada']\n",
        "    df_rep = df_rep.round(4)\n",
        "\n",
        "    print(f\"\\n Relatório do conjunto {nome} utilizando {metodo_balanceamento}:\")\n",
        "    display(df_rep)\n",
        "    print(f\"Acurácia {nome}: {acc:.4f}\\n\")\n",
        "\n",
        "gera_relatorio_completo(xgb_model, X_train_resampled, y_train_resampled, 'Treino')\n",
        "\n",
        "gera_relatorio_completo(xgb_model, X_test, y_test, 'Teste')"
      ],
      "metadata": {
        "id": "ZgSK7MgwKEje",
        "colab": {
          "base_uri": "https://localhost:8080/",
          "height": 471
        },
        "outputId": "a1eca7de-fcff-422e-d750-7138f86d1c56"
      },
      "execution_count": 10,
      "outputs": [
        {
          "output_type": "stream",
          "name": "stdout",
          "text": [
            "\n",
            " Relatório do conjunto Treino utilizando ADASYN:\n"
          ]
        },
        {
          "output_type": "display_data",
          "data": {
            "text/plain": [
              "                 precision  recall  f1-score  support\n",
              "Vinhos Ruins        0.9562  0.9718    0.9639   3188.0\n",
              "Vinhos Bons         0.9722  0.9568    0.9645   3290.0\n",
              "Média Simples       0.9642  0.9643    0.9642   6478.0\n",
              "Média Ponderada     0.9643  0.9642    0.9642   6478.0"
            ],
            "text/html": [
              "\n",
              "  <div id=\"df-4761ca2b-6f41-4e17-abda-3ce8db09ef72\" class=\"colab-df-container\">\n",
              "    <div>\n",
              "<style scoped>\n",
              "    .dataframe tbody tr th:only-of-type {\n",
              "        vertical-align: middle;\n",
              "    }\n",
              "\n",
              "    .dataframe tbody tr th {\n",
              "        vertical-align: top;\n",
              "    }\n",
              "\n",
              "    .dataframe thead th {\n",
              "        text-align: right;\n",
              "    }\n",
              "</style>\n",
              "<table border=\"1\" class=\"dataframe\">\n",
              "  <thead>\n",
              "    <tr style=\"text-align: right;\">\n",
              "      <th></th>\n",
              "      <th>precision</th>\n",
              "      <th>recall</th>\n",
              "      <th>f1-score</th>\n",
              "      <th>support</th>\n",
              "    </tr>\n",
              "  </thead>\n",
              "  <tbody>\n",
              "    <tr>\n",
              "      <th>Vinhos Ruins</th>\n",
              "      <td>0.9562</td>\n",
              "      <td>0.9718</td>\n",
              "      <td>0.9639</td>\n",
              "      <td>3188.0</td>\n",
              "    </tr>\n",
              "    <tr>\n",
              "      <th>Vinhos Bons</th>\n",
              "      <td>0.9722</td>\n",
              "      <td>0.9568</td>\n",
              "      <td>0.9645</td>\n",
              "      <td>3290.0</td>\n",
              "    </tr>\n",
              "    <tr>\n",
              "      <th>Média Simples</th>\n",
              "      <td>0.9642</td>\n",
              "      <td>0.9643</td>\n",
              "      <td>0.9642</td>\n",
              "      <td>6478.0</td>\n",
              "    </tr>\n",
              "    <tr>\n",
              "      <th>Média Ponderada</th>\n",
              "      <td>0.9643</td>\n",
              "      <td>0.9642</td>\n",
              "      <td>0.9642</td>\n",
              "      <td>6478.0</td>\n",
              "    </tr>\n",
              "  </tbody>\n",
              "</table>\n",
              "</div>\n",
              "    <div class=\"colab-df-buttons\">\n",
              "\n",
              "  <div class=\"colab-df-container\">\n",
              "    <button class=\"colab-df-convert\" onclick=\"convertToInteractive('df-4761ca2b-6f41-4e17-abda-3ce8db09ef72')\"\n",
              "            title=\"Convert this dataframe to an interactive table.\"\n",
              "            style=\"display:none;\">\n",
              "\n",
              "  <svg xmlns=\"http://www.w3.org/2000/svg\" height=\"24px\" viewBox=\"0 -960 960 960\">\n",
              "    <path d=\"M120-120v-720h720v720H120Zm60-500h600v-160H180v160Zm220 220h160v-160H400v160Zm0 220h160v-160H400v160ZM180-400h160v-160H180v160Zm440 0h160v-160H620v160ZM180-180h160v-160H180v160Zm440 0h160v-160H620v160Z\"/>\n",
              "  </svg>\n",
              "    </button>\n",
              "\n",
              "  <style>\n",
              "    .colab-df-container {\n",
              "      display:flex;\n",
              "      gap: 12px;\n",
              "    }\n",
              "\n",
              "    .colab-df-convert {\n",
              "      background-color: #E8F0FE;\n",
              "      border: none;\n",
              "      border-radius: 50%;\n",
              "      cursor: pointer;\n",
              "      display: none;\n",
              "      fill: #1967D2;\n",
              "      height: 32px;\n",
              "      padding: 0 0 0 0;\n",
              "      width: 32px;\n",
              "    }\n",
              "\n",
              "    .colab-df-convert:hover {\n",
              "      background-color: #E2EBFA;\n",
              "      box-shadow: 0px 1px 2px rgba(60, 64, 67, 0.3), 0px 1px 3px 1px rgba(60, 64, 67, 0.15);\n",
              "      fill: #174EA6;\n",
              "    }\n",
              "\n",
              "    .colab-df-buttons div {\n",
              "      margin-bottom: 4px;\n",
              "    }\n",
              "\n",
              "    [theme=dark] .colab-df-convert {\n",
              "      background-color: #3B4455;\n",
              "      fill: #D2E3FC;\n",
              "    }\n",
              "\n",
              "    [theme=dark] .colab-df-convert:hover {\n",
              "      background-color: #434B5C;\n",
              "      box-shadow: 0px 1px 3px 1px rgba(0, 0, 0, 0.15);\n",
              "      filter: drop-shadow(0px 1px 2px rgba(0, 0, 0, 0.3));\n",
              "      fill: #FFFFFF;\n",
              "    }\n",
              "  </style>\n",
              "\n",
              "    <script>\n",
              "      const buttonEl =\n",
              "        document.querySelector('#df-4761ca2b-6f41-4e17-abda-3ce8db09ef72 button.colab-df-convert');\n",
              "      buttonEl.style.display =\n",
              "        google.colab.kernel.accessAllowed ? 'block' : 'none';\n",
              "\n",
              "      async function convertToInteractive(key) {\n",
              "        const element = document.querySelector('#df-4761ca2b-6f41-4e17-abda-3ce8db09ef72');\n",
              "        const dataTable =\n",
              "          await google.colab.kernel.invokeFunction('convertToInteractive',\n",
              "                                                    [key], {});\n",
              "        if (!dataTable) return;\n",
              "\n",
              "        const docLinkHtml = 'Like what you see? Visit the ' +\n",
              "          '<a target=\"_blank\" href=https://colab.research.google.com/notebooks/data_table.ipynb>data table notebook</a>'\n",
              "          + ' to learn more about interactive tables.';\n",
              "        element.innerHTML = '';\n",
              "        dataTable['output_type'] = 'display_data';\n",
              "        await google.colab.output.renderOutput(dataTable, element);\n",
              "        const docLink = document.createElement('div');\n",
              "        docLink.innerHTML = docLinkHtml;\n",
              "        element.appendChild(docLink);\n",
              "      }\n",
              "    </script>\n",
              "  </div>\n",
              "\n",
              "\n",
              "    <div id=\"df-6e8652dd-91dd-4d82-bafa-d302810fcc4b\">\n",
              "      <button class=\"colab-df-quickchart\" onclick=\"quickchart('df-6e8652dd-91dd-4d82-bafa-d302810fcc4b')\"\n",
              "                title=\"Suggest charts\"\n",
              "                style=\"display:none;\">\n",
              "\n",
              "<svg xmlns=\"http://www.w3.org/2000/svg\" height=\"24px\"viewBox=\"0 0 24 24\"\n",
              "     width=\"24px\">\n",
              "    <g>\n",
              "        <path d=\"M19 3H5c-1.1 0-2 .9-2 2v14c0 1.1.9 2 2 2h14c1.1 0 2-.9 2-2V5c0-1.1-.9-2-2-2zM9 17H7v-7h2v7zm4 0h-2V7h2v10zm4 0h-2v-4h2v4z\"/>\n",
              "    </g>\n",
              "</svg>\n",
              "      </button>\n",
              "\n",
              "<style>\n",
              "  .colab-df-quickchart {\n",
              "      --bg-color: #E8F0FE;\n",
              "      --fill-color: #1967D2;\n",
              "      --hover-bg-color: #E2EBFA;\n",
              "      --hover-fill-color: #174EA6;\n",
              "      --disabled-fill-color: #AAA;\n",
              "      --disabled-bg-color: #DDD;\n",
              "  }\n",
              "\n",
              "  [theme=dark] .colab-df-quickchart {\n",
              "      --bg-color: #3B4455;\n",
              "      --fill-color: #D2E3FC;\n",
              "      --hover-bg-color: #434B5C;\n",
              "      --hover-fill-color: #FFFFFF;\n",
              "      --disabled-bg-color: #3B4455;\n",
              "      --disabled-fill-color: #666;\n",
              "  }\n",
              "\n",
              "  .colab-df-quickchart {\n",
              "    background-color: var(--bg-color);\n",
              "    border: none;\n",
              "    border-radius: 50%;\n",
              "    cursor: pointer;\n",
              "    display: none;\n",
              "    fill: var(--fill-color);\n",
              "    height: 32px;\n",
              "    padding: 0;\n",
              "    width: 32px;\n",
              "  }\n",
              "\n",
              "  .colab-df-quickchart:hover {\n",
              "    background-color: var(--hover-bg-color);\n",
              "    box-shadow: 0 1px 2px rgba(60, 64, 67, 0.3), 0 1px 3px 1px rgba(60, 64, 67, 0.15);\n",
              "    fill: var(--button-hover-fill-color);\n",
              "  }\n",
              "\n",
              "  .colab-df-quickchart-complete:disabled,\n",
              "  .colab-df-quickchart-complete:disabled:hover {\n",
              "    background-color: var(--disabled-bg-color);\n",
              "    fill: var(--disabled-fill-color);\n",
              "    box-shadow: none;\n",
              "  }\n",
              "\n",
              "  .colab-df-spinner {\n",
              "    border: 2px solid var(--fill-color);\n",
              "    border-color: transparent;\n",
              "    border-bottom-color: var(--fill-color);\n",
              "    animation:\n",
              "      spin 1s steps(1) infinite;\n",
              "  }\n",
              "\n",
              "  @keyframes spin {\n",
              "    0% {\n",
              "      border-color: transparent;\n",
              "      border-bottom-color: var(--fill-color);\n",
              "      border-left-color: var(--fill-color);\n",
              "    }\n",
              "    20% {\n",
              "      border-color: transparent;\n",
              "      border-left-color: var(--fill-color);\n",
              "      border-top-color: var(--fill-color);\n",
              "    }\n",
              "    30% {\n",
              "      border-color: transparent;\n",
              "      border-left-color: var(--fill-color);\n",
              "      border-top-color: var(--fill-color);\n",
              "      border-right-color: var(--fill-color);\n",
              "    }\n",
              "    40% {\n",
              "      border-color: transparent;\n",
              "      border-right-color: var(--fill-color);\n",
              "      border-top-color: var(--fill-color);\n",
              "    }\n",
              "    60% {\n",
              "      border-color: transparent;\n",
              "      border-right-color: var(--fill-color);\n",
              "    }\n",
              "    80% {\n",
              "      border-color: transparent;\n",
              "      border-right-color: var(--fill-color);\n",
              "      border-bottom-color: var(--fill-color);\n",
              "    }\n",
              "    90% {\n",
              "      border-color: transparent;\n",
              "      border-bottom-color: var(--fill-color);\n",
              "    }\n",
              "  }\n",
              "</style>\n",
              "\n",
              "      <script>\n",
              "        async function quickchart(key) {\n",
              "          const quickchartButtonEl =\n",
              "            document.querySelector('#' + key + ' button');\n",
              "          quickchartButtonEl.disabled = true;  // To prevent multiple clicks.\n",
              "          quickchartButtonEl.classList.add('colab-df-spinner');\n",
              "          try {\n",
              "            const charts = await google.colab.kernel.invokeFunction(\n",
              "                'suggestCharts', [key], {});\n",
              "          } catch (error) {\n",
              "            console.error('Error during call to suggestCharts:', error);\n",
              "          }\n",
              "          quickchartButtonEl.classList.remove('colab-df-spinner');\n",
              "          quickchartButtonEl.classList.add('colab-df-quickchart-complete');\n",
              "        }\n",
              "        (() => {\n",
              "          let quickchartButtonEl =\n",
              "            document.querySelector('#df-6e8652dd-91dd-4d82-bafa-d302810fcc4b button');\n",
              "          quickchartButtonEl.style.display =\n",
              "            google.colab.kernel.accessAllowed ? 'block' : 'none';\n",
              "        })();\n",
              "      </script>\n",
              "    </div>\n",
              "\n",
              "    </div>\n",
              "  </div>\n"
            ],
            "application/vnd.google.colaboratory.intrinsic+json": {
              "type": "dataframe",
              "summary": "{\n  \"name\": \"gera_relatorio_completo(xgb_model, X_test, y_test, 'Teste')\",\n  \"rows\": 4,\n  \"fields\": [\n    {\n      \"column\": \"precision\",\n      \"properties\": {\n        \"dtype\": \"number\",\n        \"std\": 0.0065321640110047865,\n        \"min\": 0.9562,\n        \"max\": 0.9722,\n        \"num_unique_values\": 4,\n        \"samples\": [\n          0.9722,\n          0.9643,\n          0.9562\n        ],\n        \"semantic_type\": \"\",\n        \"description\": \"\"\n      }\n    },\n    {\n      \"column\": \"recall\",\n      \"properties\": {\n        \"dtype\": \"number\",\n        \"std\": 0.006123928477701227,\n        \"min\": 0.9568,\n        \"max\": 0.9718,\n        \"num_unique_values\": 4,\n        \"samples\": [\n          0.9568,\n          0.9642,\n          0.9718\n        ],\n        \"semantic_type\": \"\",\n        \"description\": \"\"\n      }\n    },\n    {\n      \"column\": \"f1-score\",\n      \"properties\": {\n        \"dtype\": \"number\",\n        \"std\": 0.00024494897427833616,\n        \"min\": 0.9639,\n        \"max\": 0.9645,\n        \"num_unique_values\": 3,\n        \"samples\": [\n          0.9639,\n          0.9645,\n          0.9642\n        ],\n        \"semantic_type\": \"\",\n        \"description\": \"\"\n      }\n    },\n    {\n      \"column\": \"support\",\n      \"properties\": {\n        \"dtype\": \"number\",\n        \"std\": 1870.501091508191,\n        \"min\": 3188.0,\n        \"max\": 6478.0,\n        \"num_unique_values\": 3,\n        \"samples\": [\n          3188.0,\n          3290.0,\n          6478.0\n        ],\n        \"semantic_type\": \"\",\n        \"description\": \"\"\n      }\n    }\n  ]\n}"
            }
          },
          "metadata": {}
        },
        {
          "output_type": "stream",
          "name": "stdout",
          "text": [
            "Acurácia Treino: 0.9642\n",
            "\n",
            "\n",
            " Relatório do conjunto Teste utilizando ADASYN:\n"
          ]
        },
        {
          "output_type": "display_data",
          "data": {
            "text/plain": [
              "                 precision  recall  f1-score  support\n",
              "Vinhos Ruins        0.7280  0.7463    0.7371    477.0\n",
              "Vinhos Bons         0.8508  0.8384    0.8446    823.0\n",
              "Média Simples       0.7894  0.7924    0.7908   1300.0\n",
              "Média Ponderada     0.8057  0.8046    0.8051   1300.0"
            ],
            "text/html": [
              "\n",
              "  <div id=\"df-c37e4283-ccd6-4efc-a79d-883d861f33d3\" class=\"colab-df-container\">\n",
              "    <div>\n",
              "<style scoped>\n",
              "    .dataframe tbody tr th:only-of-type {\n",
              "        vertical-align: middle;\n",
              "    }\n",
              "\n",
              "    .dataframe tbody tr th {\n",
              "        vertical-align: top;\n",
              "    }\n",
              "\n",
              "    .dataframe thead th {\n",
              "        text-align: right;\n",
              "    }\n",
              "</style>\n",
              "<table border=\"1\" class=\"dataframe\">\n",
              "  <thead>\n",
              "    <tr style=\"text-align: right;\">\n",
              "      <th></th>\n",
              "      <th>precision</th>\n",
              "      <th>recall</th>\n",
              "      <th>f1-score</th>\n",
              "      <th>support</th>\n",
              "    </tr>\n",
              "  </thead>\n",
              "  <tbody>\n",
              "    <tr>\n",
              "      <th>Vinhos Ruins</th>\n",
              "      <td>0.7280</td>\n",
              "      <td>0.7463</td>\n",
              "      <td>0.7371</td>\n",
              "      <td>477.0</td>\n",
              "    </tr>\n",
              "    <tr>\n",
              "      <th>Vinhos Bons</th>\n",
              "      <td>0.8508</td>\n",
              "      <td>0.8384</td>\n",
              "      <td>0.8446</td>\n",
              "      <td>823.0</td>\n",
              "    </tr>\n",
              "    <tr>\n",
              "      <th>Média Simples</th>\n",
              "      <td>0.7894</td>\n",
              "      <td>0.7924</td>\n",
              "      <td>0.7908</td>\n",
              "      <td>1300.0</td>\n",
              "    </tr>\n",
              "    <tr>\n",
              "      <th>Média Ponderada</th>\n",
              "      <td>0.8057</td>\n",
              "      <td>0.8046</td>\n",
              "      <td>0.8051</td>\n",
              "      <td>1300.0</td>\n",
              "    </tr>\n",
              "  </tbody>\n",
              "</table>\n",
              "</div>\n",
              "    <div class=\"colab-df-buttons\">\n",
              "\n",
              "  <div class=\"colab-df-container\">\n",
              "    <button class=\"colab-df-convert\" onclick=\"convertToInteractive('df-c37e4283-ccd6-4efc-a79d-883d861f33d3')\"\n",
              "            title=\"Convert this dataframe to an interactive table.\"\n",
              "            style=\"display:none;\">\n",
              "\n",
              "  <svg xmlns=\"http://www.w3.org/2000/svg\" height=\"24px\" viewBox=\"0 -960 960 960\">\n",
              "    <path d=\"M120-120v-720h720v720H120Zm60-500h600v-160H180v160Zm220 220h160v-160H400v160Zm0 220h160v-160H400v160ZM180-400h160v-160H180v160Zm440 0h160v-160H620v160ZM180-180h160v-160H180v160Zm440 0h160v-160H620v160Z\"/>\n",
              "  </svg>\n",
              "    </button>\n",
              "\n",
              "  <style>\n",
              "    .colab-df-container {\n",
              "      display:flex;\n",
              "      gap: 12px;\n",
              "    }\n",
              "\n",
              "    .colab-df-convert {\n",
              "      background-color: #E8F0FE;\n",
              "      border: none;\n",
              "      border-radius: 50%;\n",
              "      cursor: pointer;\n",
              "      display: none;\n",
              "      fill: #1967D2;\n",
              "      height: 32px;\n",
              "      padding: 0 0 0 0;\n",
              "      width: 32px;\n",
              "    }\n",
              "\n",
              "    .colab-df-convert:hover {\n",
              "      background-color: #E2EBFA;\n",
              "      box-shadow: 0px 1px 2px rgba(60, 64, 67, 0.3), 0px 1px 3px 1px rgba(60, 64, 67, 0.15);\n",
              "      fill: #174EA6;\n",
              "    }\n",
              "\n",
              "    .colab-df-buttons div {\n",
              "      margin-bottom: 4px;\n",
              "    }\n",
              "\n",
              "    [theme=dark] .colab-df-convert {\n",
              "      background-color: #3B4455;\n",
              "      fill: #D2E3FC;\n",
              "    }\n",
              "\n",
              "    [theme=dark] .colab-df-convert:hover {\n",
              "      background-color: #434B5C;\n",
              "      box-shadow: 0px 1px 3px 1px rgba(0, 0, 0, 0.15);\n",
              "      filter: drop-shadow(0px 1px 2px rgba(0, 0, 0, 0.3));\n",
              "      fill: #FFFFFF;\n",
              "    }\n",
              "  </style>\n",
              "\n",
              "    <script>\n",
              "      const buttonEl =\n",
              "        document.querySelector('#df-c37e4283-ccd6-4efc-a79d-883d861f33d3 button.colab-df-convert');\n",
              "      buttonEl.style.display =\n",
              "        google.colab.kernel.accessAllowed ? 'block' : 'none';\n",
              "\n",
              "      async function convertToInteractive(key) {\n",
              "        const element = document.querySelector('#df-c37e4283-ccd6-4efc-a79d-883d861f33d3');\n",
              "        const dataTable =\n",
              "          await google.colab.kernel.invokeFunction('convertToInteractive',\n",
              "                                                    [key], {});\n",
              "        if (!dataTable) return;\n",
              "\n",
              "        const docLinkHtml = 'Like what you see? Visit the ' +\n",
              "          '<a target=\"_blank\" href=https://colab.research.google.com/notebooks/data_table.ipynb>data table notebook</a>'\n",
              "          + ' to learn more about interactive tables.';\n",
              "        element.innerHTML = '';\n",
              "        dataTable['output_type'] = 'display_data';\n",
              "        await google.colab.output.renderOutput(dataTable, element);\n",
              "        const docLink = document.createElement('div');\n",
              "        docLink.innerHTML = docLinkHtml;\n",
              "        element.appendChild(docLink);\n",
              "      }\n",
              "    </script>\n",
              "  </div>\n",
              "\n",
              "\n",
              "    <div id=\"df-53ac2175-8e34-45d1-aec6-b8e25c27f756\">\n",
              "      <button class=\"colab-df-quickchart\" onclick=\"quickchart('df-53ac2175-8e34-45d1-aec6-b8e25c27f756')\"\n",
              "                title=\"Suggest charts\"\n",
              "                style=\"display:none;\">\n",
              "\n",
              "<svg xmlns=\"http://www.w3.org/2000/svg\" height=\"24px\"viewBox=\"0 0 24 24\"\n",
              "     width=\"24px\">\n",
              "    <g>\n",
              "        <path d=\"M19 3H5c-1.1 0-2 .9-2 2v14c0 1.1.9 2 2 2h14c1.1 0 2-.9 2-2V5c0-1.1-.9-2-2-2zM9 17H7v-7h2v7zm4 0h-2V7h2v10zm4 0h-2v-4h2v4z\"/>\n",
              "    </g>\n",
              "</svg>\n",
              "      </button>\n",
              "\n",
              "<style>\n",
              "  .colab-df-quickchart {\n",
              "      --bg-color: #E8F0FE;\n",
              "      --fill-color: #1967D2;\n",
              "      --hover-bg-color: #E2EBFA;\n",
              "      --hover-fill-color: #174EA6;\n",
              "      --disabled-fill-color: #AAA;\n",
              "      --disabled-bg-color: #DDD;\n",
              "  }\n",
              "\n",
              "  [theme=dark] .colab-df-quickchart {\n",
              "      --bg-color: #3B4455;\n",
              "      --fill-color: #D2E3FC;\n",
              "      --hover-bg-color: #434B5C;\n",
              "      --hover-fill-color: #FFFFFF;\n",
              "      --disabled-bg-color: #3B4455;\n",
              "      --disabled-fill-color: #666;\n",
              "  }\n",
              "\n",
              "  .colab-df-quickchart {\n",
              "    background-color: var(--bg-color);\n",
              "    border: none;\n",
              "    border-radius: 50%;\n",
              "    cursor: pointer;\n",
              "    display: none;\n",
              "    fill: var(--fill-color);\n",
              "    height: 32px;\n",
              "    padding: 0;\n",
              "    width: 32px;\n",
              "  }\n",
              "\n",
              "  .colab-df-quickchart:hover {\n",
              "    background-color: var(--hover-bg-color);\n",
              "    box-shadow: 0 1px 2px rgba(60, 64, 67, 0.3), 0 1px 3px 1px rgba(60, 64, 67, 0.15);\n",
              "    fill: var(--button-hover-fill-color);\n",
              "  }\n",
              "\n",
              "  .colab-df-quickchart-complete:disabled,\n",
              "  .colab-df-quickchart-complete:disabled:hover {\n",
              "    background-color: var(--disabled-bg-color);\n",
              "    fill: var(--disabled-fill-color);\n",
              "    box-shadow: none;\n",
              "  }\n",
              "\n",
              "  .colab-df-spinner {\n",
              "    border: 2px solid var(--fill-color);\n",
              "    border-color: transparent;\n",
              "    border-bottom-color: var(--fill-color);\n",
              "    animation:\n",
              "      spin 1s steps(1) infinite;\n",
              "  }\n",
              "\n",
              "  @keyframes spin {\n",
              "    0% {\n",
              "      border-color: transparent;\n",
              "      border-bottom-color: var(--fill-color);\n",
              "      border-left-color: var(--fill-color);\n",
              "    }\n",
              "    20% {\n",
              "      border-color: transparent;\n",
              "      border-left-color: var(--fill-color);\n",
              "      border-top-color: var(--fill-color);\n",
              "    }\n",
              "    30% {\n",
              "      border-color: transparent;\n",
              "      border-left-color: var(--fill-color);\n",
              "      border-top-color: var(--fill-color);\n",
              "      border-right-color: var(--fill-color);\n",
              "    }\n",
              "    40% {\n",
              "      border-color: transparent;\n",
              "      border-right-color: var(--fill-color);\n",
              "      border-top-color: var(--fill-color);\n",
              "    }\n",
              "    60% {\n",
              "      border-color: transparent;\n",
              "      border-right-color: var(--fill-color);\n",
              "    }\n",
              "    80% {\n",
              "      border-color: transparent;\n",
              "      border-right-color: var(--fill-color);\n",
              "      border-bottom-color: var(--fill-color);\n",
              "    }\n",
              "    90% {\n",
              "      border-color: transparent;\n",
              "      border-bottom-color: var(--fill-color);\n",
              "    }\n",
              "  }\n",
              "</style>\n",
              "\n",
              "      <script>\n",
              "        async function quickchart(key) {\n",
              "          const quickchartButtonEl =\n",
              "            document.querySelector('#' + key + ' button');\n",
              "          quickchartButtonEl.disabled = true;  // To prevent multiple clicks.\n",
              "          quickchartButtonEl.classList.add('colab-df-spinner');\n",
              "          try {\n",
              "            const charts = await google.colab.kernel.invokeFunction(\n",
              "                'suggestCharts', [key], {});\n",
              "          } catch (error) {\n",
              "            console.error('Error during call to suggestCharts:', error);\n",
              "          }\n",
              "          quickchartButtonEl.classList.remove('colab-df-spinner');\n",
              "          quickchartButtonEl.classList.add('colab-df-quickchart-complete');\n",
              "        }\n",
              "        (() => {\n",
              "          let quickchartButtonEl =\n",
              "            document.querySelector('#df-53ac2175-8e34-45d1-aec6-b8e25c27f756 button');\n",
              "          quickchartButtonEl.style.display =\n",
              "            google.colab.kernel.accessAllowed ? 'block' : 'none';\n",
              "        })();\n",
              "      </script>\n",
              "    </div>\n",
              "\n",
              "    </div>\n",
              "  </div>\n"
            ],
            "application/vnd.google.colaboratory.intrinsic+json": {
              "type": "dataframe",
              "summary": "{\n  \"name\": \"gera_relatorio_completo(xgb_model, X_test, y_test, 'Teste')\",\n  \"rows\": 4,\n  \"fields\": [\n    {\n      \"column\": \"precision\",\n      \"properties\": {\n        \"dtype\": \"number\",\n        \"std\": 0.05079103431381042,\n        \"min\": 0.728,\n        \"max\": 0.8508,\n        \"num_unique_values\": 4,\n        \"samples\": [\n          0.8508,\n          0.8057,\n          0.728\n        ],\n        \"semantic_type\": \"\",\n        \"description\": \"\"\n      }\n    },\n    {\n      \"column\": \"recall\",\n      \"properties\": {\n        \"dtype\": \"number\",\n        \"std\": 0.03809395183840433,\n        \"min\": 0.7463,\n        \"max\": 0.8384,\n        \"num_unique_values\": 4,\n        \"samples\": [\n          0.8384,\n          0.8046,\n          0.7463\n        ],\n        \"semantic_type\": \"\",\n        \"description\": \"\"\n      }\n    },\n    {\n      \"column\": \"f1-score\",\n      \"properties\": {\n        \"dtype\": \"number\",\n        \"std\": 0.04446264349616055,\n        \"min\": 0.7371,\n        \"max\": 0.8446,\n        \"num_unique_values\": 4,\n        \"samples\": [\n          0.8446,\n          0.8051,\n          0.7371\n        ],\n        \"semantic_type\": \"\",\n        \"description\": \"\"\n      }\n    },\n    {\n      \"column\": \"support\",\n      \"properties\": {\n        \"dtype\": \"number\",\n        \"std\": 400.98129632191075,\n        \"min\": 477.0,\n        \"max\": 1300.0,\n        \"num_unique_values\": 3,\n        \"samples\": [\n          477.0,\n          823.0,\n          1300.0\n        ],\n        \"semantic_type\": \"\",\n        \"description\": \"\"\n      }\n    }\n  ]\n}"
            }
          },
          "metadata": {}
        },
        {
          "output_type": "stream",
          "name": "stdout",
          "text": [
            "Acurácia Teste: 0.8046\n",
            "\n"
          ]
        }
      ]
    },
    {
      "cell_type": "code",
      "source": [
        "fpr, tpr, thresholds = roc_curve(y_test, y_pred_proba)\n",
        "roc_auc = roc_auc_score(y_test, y_pred_proba)\n",
        "\n",
        "plt.figure(figsize=(8, 6))\n",
        "plt.plot(fpr, tpr, color='darkorange', lw=2, label=f'Curva ROC (AUC = {roc_auc:.4f})')\n",
        "plt.plot([0, 1], [0, 1], color='navy', lw=2, linestyle='--')\n",
        "plt.xlabel('Taxa de Falsos Positivos')\n",
        "plt.ylabel('Taxa de Verdadeiros Positivos')\n",
        "plt.title(f'Curva ROC - XGBoost com {metodo_balanceamento} ')\n",
        "plt.legend(loc=\"lower right\")\n",
        "plt.show()"
      ],
      "metadata": {
        "colab": {
          "base_uri": "https://localhost:8080/",
          "height": 564
        },
        "id": "IoQ4sd3vymKc",
        "outputId": "4dc1614d-48be-4801-d49b-45233a8c683d"
      },
      "execution_count": 11,
      "outputs": [
        {
          "output_type": "display_data",
          "data": {
            "text/plain": [
              "<Figure size 800x600 with 1 Axes>"
            ],
            "image/png": "[encoded data removed]"
          },
          "metadata": {}
        }
      ]
    },
    {
      "cell_type": "code",
      "source": [
        "plt.figure(figsize=(12, 8))\n",
        "xgb.plot_importance(xgb_model, max_num_features=15, importance_type='weight')\n",
        "plt.title('Importância das Características - XGBoost')\n",
        "plt.show()"
      ],
      "metadata": {
        "colab": {
          "base_uri": "https://localhost:8080/",
          "height": 489
        },
        "id": "OGvseYG7zBvj",
        "outputId": "7da28bf4-b78c-460c-f0c0-c0b207ab0b45"
      },
      "execution_count": 12,
      "outputs": [
        {
          "output_type": "display_data",
          "data": {
            "text/plain": [
              "<Figure size 1200x800 with 0 Axes>"
            ]
          },
          "metadata": {}
        },
        {
          "output_type": "display_data",
          "data": {
            "text/plain": [
              "<Figure size 640x480 with 1 Axes>"
            ],
            "image/png": "[encoded data removed]"
          },
          "metadata": {}
        }
      ]
    },
    {
      "cell_type": "code",
      "source": [
        "from sklearn.metrics import accuracy_score, precision_score, recall_score, f1_score\n",
        "\n",
        "print(f\"\\n--- Resultados Gerais com {metodo_balanceamento} ---\")\n",
        "print(f\"Acurácia: {accuracy_score(y_test, y_pred):.4f}\")\n",
        "print(f\"Precisão: {precision_score(y_test, y_pred):.4f}\")\n",
        "print(f\"Recall: {recall_score(y_test, y_pred):.4f}\")\n",
        "print(f\"F1-Score: {f1_score(y_test, y_pred):.4f}\")\n",
        "print(f\"AUC-ROC: {roc_auc:.4f}\")"
      ],
      "metadata": {
        "colab": {
          "base_uri": "https://localhost:8080/"
        },
        "id": "gYD-4og7zIHb",
        "outputId": "0d322394-bfac-44cc-8830-18967a437e58"
      },
      "execution_count": 13,
      "outputs": [
        {
          "output_type": "stream",
          "name": "stdout",
          "text": [
            "\n",
            "--- Resultados Gerais com ADASYN ---\n",
            "Acurácia: 0.8046\n",
            "Precisão: 0.8508\n",
            "Recall: 0.8384\n",
            "F1-Score: 0.8446\n",
            "AUC-ROC: 0.8797\n"
          ]
        }
      ]
    },
    {
      "cell_type": "markdown",
      "source": [
        "Salvando o modelo"
      ],
      "metadata": {
        "id": "ZQ49wEm7Au88"
      }
    },
    {
      "cell_type": "code",
      "source": [
        "import joblib\n",
        "from google.colab import files\n",
        "\n",
        "joblib.dump(xgb_model, \"modelo_xgboost.pkl\")\n",
        "files.download(\"modelo_xgboost.pkl\")\n",
        "print(\"Modelo salvo como modelo_xgboost.pkl\")"
      ],
      "metadata": {
        "colab": {
          "base_uri": "https://localhost:8080/",
          "height": 34
        },
        "id": "suSSwdkuAWzV",
        "outputId": "b75a9d1b-d3c7-454e-f373-30242b355304"
      },
      "execution_count": null,
      "outputs": [
        {
          "output_type": "display_data",
          "data": {
            "text/plain": [
              "<IPython.core.display.Javascript object>"
            ],
            "application/javascript": [
              "\n",
              "    async function download(id, filename, size) {\n",
              "      if (!google.colab.kernel.accessAllowed) {\n",
              "        return;\n",
              "      }\n",
              "      const div = document.createElement('div');\n",
              "      const label = document.createElement('label');\n",
              "      label.textContent = `Downloading \"${filename}\": `;\n",
              "      div.appendChild(label);\n",
              "      const progress = document.createElement('progress');\n",
              "      progress.max = size;\n",
              "      div.appendChild(progress);\n",
              "      document.body.appendChild(div);\n",
              "\n",
              "      const buffers = [];\n",
              "      let downloaded = 0;\n",
              "\n",
              "      const channel = await google.colab.kernel.comms.open(id);\n",
              "      // Send a message to notify the kernel that we're ready.\n",
              "      channel.send({})\n",
              "\n",
              "      for await (const message of channel.messages) {\n",
              "        // Send a message to notify the kernel that we're ready.\n",
              "        channel.send({})\n",
              "        if (message.buffers) {\n",
              "          for (const buffer of message.buffers) {\n",
              "            buffers.push(buffer);\n",
              "            downloaded += buffer.byteLength;\n",
              "            progress.value = downloaded;\n",
              "          }\n",
              "        }\n",
              "      }\n",
              "      const blob = new Blob(buffers, {type: 'application/binary'});\n",
              "      const a = document.createElement('a');\n",
              "      a.href = window.URL.createObjectURL(blob);\n",
              "      a.download = filename;\n",
              "      div.appendChild(a);\n",
              "      a.click();\n",
              "      div.remove();\n",
              "    }\n",
              "  "
            ]
          },
          "metadata": {}
        },
        {
          "output_type": "display_data",
          "data": {
            "text/plain": [
              "<IPython.core.display.Javascript object>"
            ],
            "application/javascript": [
              "download(\"download_c2302c07-b78c-40f8-8472-09c851f5385e\", \"modelo_xgboost.pkl\", 626398)"
            ]
          },
          "metadata": {}
        },
        {
          "output_type": "stream",
          "name": "stdout",
          "text": [
            "Modelo salvo como modelo_xgboost.pkl\n"
          ]
        }
      ]
    }
  ]
}