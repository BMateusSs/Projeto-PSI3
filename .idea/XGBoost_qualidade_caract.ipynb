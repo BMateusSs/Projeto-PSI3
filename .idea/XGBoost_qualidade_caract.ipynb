{
  "nbformat": 4,
  "nbformat_minor": 0,
  "metadata": {
    "colab": {
      "provenance": []
    },
    "kernelspec": {
      "name": "python3",
      "display_name": "Python 3"
    },
    "language_info": {
      "name": "python"
    }
  },
  "cells": [
    {
      "cell_type": "code",
      "execution_count": null,
      "metadata": {
        "colab": {
          "base_uri": "https://localhost:8080/"
        },
        "id": "TlrtTk9NGbHa",
        "outputId": "e9fe685b-b3fd-4923-b2f6-30e8dced4f16"
      },
      "outputs": [
        {
          "output_type": "stream",
          "name": "stderr",
          "text": [
            "/tmp/ipython-input-1-2914497039.py:19: DeprecationWarning: load_dataset is deprecated and will be removed in a future version.\n",
            "  df_raw_combined_wine = kagglehub.load_dataset(\n"
          ]
        },
        {
          "output_type": "stream",
          "name": "stdout",
          "text": [
            "Downloading from https://www.kaggle.com/api/v1/datasets/download/ruthgn/wine-quality-data-set-red-white-wine?dataset_version_number=2&file_name=wine-quality-white-and-red.csv...\n"
          ]
        },
        {
          "output_type": "stream",
          "name": "stderr",
          "text": [
            "100%|██████████| 381k/381k [00:00<00:00, 78.4MB/s]"
          ]
        },
        {
          "output_type": "stream",
          "name": "stdout",
          "text": [
            "DataFrame salvo com sucesso em formato Parquet: data/processed/wine-quality-combined.parquet\n"
          ]
        },
        {
          "output_type": "stream",
          "name": "stderr",
          "text": [
            "\n"
          ]
        }
      ],
      "source": [
        "import kagglehub\n",
        "import pandas as pd\n",
        "from kagglehub import KaggleDatasetAdapter\n",
        "import matplotlib.pyplot as plt\n",
        "import seaborn as sns\n",
        "from sklearn.preprocessing import StandardScaler\n",
        "from sklearn.model_selection import train_test_split\n",
        "from sklearn.ensemble import RandomForestClassifier\n",
        "from sklearn.metrics import classification_report, confusion_matrix, roc_auc_score, roc_curve, ConfusionMatrixDisplay\n",
        "from imblearn.over_sampling import SMOTE\n",
        "import os\n",
        "import numpy as np\n",
        "\n",
        "# --- Carregamento do Dataset Combinado Diretamente do Kaggle Hub ---\n",
        "wine_dataset_slug = \"ruthgn/wine-quality-data-set-red-white-wine\"\n",
        "wine_file_name = \"wine-quality-white-and-red.csv\"\n",
        "\n",
        "# Carrega o arquivo CSV diretamente para um DataFrame do Pandas\n",
        "df_raw_combined_wine = kagglehub.load_dataset(\n",
        "    KaggleDatasetAdapter.PANDAS,\n",
        "    wine_dataset_slug,\n",
        "    wine_file_name\n",
        ")\n",
        "\n",
        "# --- Salvando para Parquet (Boa prática para reusabilidade e performance) ---\n",
        "output_dir = \"data/processed\"\n",
        "os.makedirs(output_dir, exist_ok=True)\n",
        "parquet_path = os.path.join(output_dir, \"wine-quality-combined.parquet\")\n",
        "\n",
        "df_raw_combined_wine.to_parquet(parquet_path, engine=\"pyarrow\", index=False)\n",
        "print(f\"DataFrame salvo com sucesso em formato Parquet: {parquet_path}\")"
      ]
    },
    {
      "cell_type": "code",
      "source": [
        "df_wine = pd.read_parquet(parquet_path)\n",
        "\n",
        "print(\"\\n--- Primeiras 5 linhas do DataFrame principal (carregado do Parquet) ---\")\n",
        "print(df_wine.head())\n",
        "\n",
        "print(\"\\n--- Informações gerais do DataFrame principal ---\")\n",
        "df_wine.info()\n",
        "\n",
        "print(\"\\n--- Verificando valores ausentes no DataFrame principal ---\")\n",
        "print(df_wine.isnull().sum())"
      ],
      "metadata": {
        "colab": {
          "base_uri": "https://localhost:8080/"
        },
        "id": "KTSka40iGj-O",
        "outputId": "1a06a5d6-3c52-44e4-80fc-2a3d90fa4601"
      },
      "execution_count": null,
      "outputs": [
        {
          "output_type": "stream",
          "name": "stdout",
          "text": [
            "\n",
            "--- Primeiras 5 linhas do DataFrame principal (carregado do Parquet) ---\n",
            "    type  fixed acidity  volatile acidity  citric acid  residual sugar  \\\n",
            "0  white            7.0              0.27         0.36            20.7   \n",
            "1  white            6.3              0.30         0.34             1.6   \n",
            "2  white            8.1              0.28         0.40             6.9   \n",
            "3  white            7.2              0.23         0.32             8.5   \n",
            "4  white            7.2              0.23         0.32             8.5   \n",
            "\n",
            "   chlorides  free sulfur dioxide  total sulfur dioxide  density    pH  \\\n",
            "0      0.045                 45.0                 170.0   1.0010  3.00   \n",
            "1      0.049                 14.0                 132.0   0.9940  3.30   \n",
            "2      0.050                 30.0                  97.0   0.9951  3.26   \n",
            "3      0.058                 47.0                 186.0   0.9956  3.19   \n",
            "4      0.058                 47.0                 186.0   0.9956  3.19   \n",
            "\n",
            "   sulphates  alcohol  quality  \n",
            "0       0.45      8.8        6  \n",
            "1       0.49      9.5        6  \n",
            "2       0.44     10.1        6  \n",
            "3       0.40      9.9        6  \n",
            "4       0.40      9.9        6  \n",
            "\n",
            "--- Informações gerais do DataFrame principal ---\n",
            "<class 'pandas.core.frame.DataFrame'>\n",
            "RangeIndex: 6497 entries, 0 to 6496\n",
            "Data columns (total 13 columns):\n",
            " #   Column                Non-Null Count  Dtype  \n",
            "---  ------                --------------  -----  \n",
            " 0   type                  6497 non-null   object \n",
            " 1   fixed acidity         6497 non-null   float64\n",
            " 2   volatile acidity      6497 non-null   float64\n",
            " 3   citric acid           6497 non-null   float64\n",
            " 4   residual sugar        6497 non-null   float64\n",
            " 5   chlorides             6497 non-null   float64\n",
            " 6   free sulfur dioxide   6497 non-null   float64\n",
            " 7   total sulfur dioxide  6497 non-null   float64\n",
            " 8   density               6497 non-null   float64\n",
            " 9   pH                    6497 non-null   float64\n",
            " 10  sulphates             6497 non-null   float64\n",
            " 11  alcohol               6497 non-null   float64\n",
            " 12  quality               6497 non-null   int64  \n",
            "dtypes: float64(11), int64(1), object(1)\n",
            "memory usage: 660.0+ KB\n",
            "\n",
            "--- Verificando valores ausentes no DataFrame principal ---\n",
            "type                    0\n",
            "fixed acidity           0\n",
            "volatile acidity        0\n",
            "citric acid             0\n",
            "residual sugar          0\n",
            "chlorides               0\n",
            "free sulfur dioxide     0\n",
            "total sulfur dioxide    0\n",
            "density                 0\n",
            "pH                      0\n",
            "sulphates               0\n",
            "alcohol                 0\n",
            "quality                 0\n",
            "dtype: int64\n"
          ]
        }
      ]
    },
    {
      "cell_type": "code",
      "source": [
        "df_processed_features = df_wine.copy()\n",
        "df_processed_features = pd.get_dummies(df_processed_features, columns=['type'], drop_first=True, dtype=int)\n",
        "\n",
        "print(\"\\n--- Primeiras 5 linhas do DataFrame após One-Hot Encoding de 'type' ---\")\n",
        "print(df_processed_features.head())"
      ],
      "metadata": {
        "colab": {
          "base_uri": "https://localhost:8080/"
        },
        "id": "Eys0MTnDGn8l",
        "outputId": "6b3096c9-a5a6-43e5-e6a3-14bef223bb57"
      },
      "execution_count": null,
      "outputs": [
        {
          "output_type": "stream",
          "name": "stdout",
          "text": [
            "\n",
            "--- Primeiras 5 linhas do DataFrame após One-Hot Encoding de 'type' ---\n",
            "   fixed acidity  volatile acidity  citric acid  residual sugar  chlorides  \\\n",
            "0            7.0              0.27         0.36            20.7      0.045   \n",
            "1            6.3              0.30         0.34             1.6      0.049   \n",
            "2            8.1              0.28         0.40             6.9      0.050   \n",
            "3            7.2              0.23         0.32             8.5      0.058   \n",
            "4            7.2              0.23         0.32             8.5      0.058   \n",
            "\n",
            "   free sulfur dioxide  total sulfur dioxide  density    pH  sulphates  \\\n",
            "0                 45.0                 170.0   1.0010  3.00       0.45   \n",
            "1                 14.0                 132.0   0.9940  3.30       0.49   \n",
            "2                 30.0                  97.0   0.9951  3.26       0.44   \n",
            "3                 47.0                 186.0   0.9956  3.19       0.40   \n",
            "4                 47.0                 186.0   0.9956  3.19       0.40   \n",
            "\n",
            "   alcohol  quality  type_white  \n",
            "0      8.8        6           1  \n",
            "1      9.5        6           1  \n",
            "2     10.1        6           1  \n",
            "3      9.9        6           1  \n",
            "4      9.9        6           1  \n"
          ]
        }
      ]
    },
    {
      "cell_type": "code",
      "source": [
        "df_processed_features['good_quality'] = df_processed_features['quality'].apply(lambda x: 1 if x >= 6 else 0)\n",
        "features_cols_no_engineering = df_processed_features.drop(['quality', 'good_quality'], axis=1).columns\n",
        "\n",
        "X = df_processed_features[features_cols_no_engineering].copy()\n",
        "y = df_processed_features['good_quality']\n",
        "\n",
        "print(f\"\\nShape das Features (X) (SEM Engenharia de Features): {X.shape}\")"
      ],
      "metadata": {
        "colab": {
          "base_uri": "https://localhost:8080/"
        },
        "id": "1Jxh4botGwB0",
        "outputId": "37a8f5b0-f0ab-4bc3-fe53-8407e45bc52d"
      },
      "execution_count": null,
      "outputs": [
        {
          "output_type": "stream",
          "name": "stdout",
          "text": [
            "\n",
            "Shape das Features (X) (SEM Engenharia de Features): (6497, 12)\n"
          ]
        }
      ]
    },
    {
      "cell_type": "code",
      "source": [
        "scaler = StandardScaler()\n",
        "X_scaled = scaler.fit_transform(X)\n",
        "X_scaled_df = pd.DataFrame(X_scaled, columns=X.columns)\n",
        "\n",
        "print(\"\\n--- Primeiras 5 linhas das Features Escalonadas (X_scaled_df) (SEM Engenharia de Features) ---\")\n",
        "print(X_scaled_df.head())\n",
        "print(\"\\n--- Média e Desvio Padrão das Features Escalonadas (devem ser próximos de 0 e 1) ---\")\n",
        "print(X_scaled_df.describe().loc[['mean', 'std']])"
      ],
      "metadata": {
        "colab": {
          "base_uri": "https://localhost:8080/"
        },
        "id": "z7XoOT6TIvEl",
        "outputId": "a3ea00e2-a509-4e5a-8686-4ec8af327865"
      },
      "execution_count": null,
      "outputs": [
        {
          "output_type": "stream",
          "name": "stdout",
          "text": [
            "\n",
            "--- Primeiras 5 linhas das Features Escalonadas (X_scaled_df) (SEM Engenharia de Features) ---\n",
            "   fixed acidity  volatile acidity  citric acid  residual sugar  chlorides  \\\n",
            "0      -0.166089         -0.423183     0.284686        3.206929  -0.314975   \n",
            "1      -0.706073         -0.240949     0.147046       -0.807837  -0.200790   \n",
            "2       0.682458         -0.362438     0.559966        0.306208  -0.172244   \n",
            "3      -0.011808         -0.666161     0.009406        0.642523   0.056126   \n",
            "4      -0.011808         -0.666161     0.009406        0.642523   0.056126   \n",
            "\n",
            "   free sulfur dioxide  total sulfur dioxide   density        pH  sulphates  \\\n",
            "0             0.815565              0.959976  2.102214 -1.359049  -0.546178   \n",
            "1            -0.931107              0.287618 -0.232332  0.506915  -0.277351   \n",
            "2            -0.029599             -0.331660  0.134525  0.258120  -0.613385   \n",
            "3             0.928254              1.243074  0.301278 -0.177272  -0.882212   \n",
            "4             0.928254              1.243074  0.301278 -0.177272  -0.882212   \n",
            "\n",
            "    alcohol  type_white  \n",
            "0 -1.418558    0.571367  \n",
            "1 -0.831615    0.571367  \n",
            "2 -0.328521    0.571367  \n",
            "3 -0.496219    0.571367  \n",
            "4 -0.496219    0.571367  \n",
            "\n",
            "--- Média e Desvio Padrão das Features Escalonadas (devem ser próximos de 0 e 1) ---\n",
            "      fixed acidity  volatile acidity   citric acid  residual sugar  \\\n",
            "mean   2.624754e-16     -2.449770e-16  3.499672e-17    6.999344e-17   \n",
            "std    1.000077e+00      1.000077e+00  1.000077e+00    1.000077e+00   \n",
            "\n",
            "      chlorides  free sulfur dioxide  total sulfur dioxide       density  \\\n",
            "mean   0.000000        -8.749179e-17              0.000000 -3.560916e-15   \n",
            "std    1.000077         1.000077e+00              1.000077  1.000077e+00   \n",
            "\n",
            "                pH     sulphates       alcohol    type_white  \n",
            "mean  2.738493e-15  2.099803e-16 -8.399212e-16  1.049902e-16  \n",
            "std   1.000077e+00  1.000077e+00  1.000077e+00  1.000077e+00  \n"
          ]
        }
      ]
    },
    {
      "cell_type": "code",
      "source": [
        "X_train, X_test, y_train, y_test = train_test_split(X_scaled_df, y, test_size=0.2, random_state=42, stratify=y)\n",
        "\n",
        "print(f\"Shape de X_train: {X_train.shape}\")\n",
        "print(f\"Shape de X_test: {X_test.shape}\")\n",
        "print(f\"Shape de y_train: {y_train.shape}\")\n",
        "print(f\"Shape de y_test: {y_test.shape}\")\n",
        "\n",
        "print(\"\\n--- Proporção das classes em y_train (pré-SMOTE) ---\")\n",
        "print(y_train.value_counts(normalize=True))\n",
        "print(\"\\n--- Proporção das classes em y_test ---\")\n",
        "print(y_test.value_counts(normalize=True))"
      ],
      "metadata": {
        "colab": {
          "base_uri": "https://localhost:8080/"
        },
        "id": "A7BC5jtbIwLz",
        "outputId": "79846ca5-2486-4575-91e2-06ed8473a079"
      },
      "execution_count": null,
      "outputs": [
        {
          "output_type": "stream",
          "name": "stdout",
          "text": [
            "Shape de X_train: (5197, 12)\n",
            "Shape de X_test: (1300, 12)\n",
            "Shape de y_train: (5197,)\n",
            "Shape de y_test: (1300,)\n",
            "\n",
            "--- Proporção das classes em y_train (pré-SMOTE) ---\n",
            "good_quality\n",
            "1    0.633058\n",
            "0    0.366942\n",
            "Name: proportion, dtype: float64\n",
            "\n",
            "--- Proporção das classes em y_test ---\n",
            "good_quality\n",
            "1    0.633077\n",
            "0    0.366923\n",
            "Name: proportion, dtype: float64\n"
          ]
        }
      ]
    },
    {
      "cell_type": "code",
      "source": [
        "smote = SMOTE(random_state=42) # Usamos SMOTE\n",
        "X_train_resampled, y_train_resampled = smote.fit_resample(X_train, y_train)\n",
        "\n",
        "print(\"\\n--- Shape de X_train após SMOTE ---\")\n",
        "print(X_train_resampled.shape)\n",
        "print(\"\\n--- Contagem de classes em y_train_resampled (após SMOTE) ---\")\n",
        "print(y_train_resampled.value_counts())"
      ],
      "metadata": {
        "colab": {
          "base_uri": "https://localhost:8080/"
        },
        "id": "ieaLzROxIy4m",
        "outputId": "216c9103-0ad2-48fc-abfd-7b20202b4de6"
      },
      "execution_count": null,
      "outputs": [
        {
          "output_type": "stream",
          "name": "stdout",
          "text": [
            "\n",
            "--- Shape de X_train após SMOTE ---\n",
            "(6580, 12)\n",
            "\n",
            "--- Contagem de classes em y_train_resampled (após SMOTE) ---\n",
            "good_quality\n",
            "1    3290\n",
            "0    3290\n",
            "Name: count, dtype: int64\n"
          ]
        }
      ]
    },
    {
      "cell_type": "code",
      "source": [
        "import xgboost as xgb\n",
        "from sklearn.metrics import accuracy_score, precision_score, recall_score, f1_score\n",
        "xgb_model = xgb.XGBClassifier(\n",
        "    objective='binary:logistic',\n",
        "    eval_metric='logloss',\n",
        "    random_state=42,\n",
        "    n_estimators=100,\n",
        "    learning_rate=0.1\n",
        ")\n",
        "\n",
        "# Treinar com dados balanceados pelo SMOTE\n",
        "xgb_model.fit(X_train_resampled, y_train_resampled)\n",
        "y_pred = xgb_model.predict(X_test)\n",
        "y_pred_proba = xgb_model.predict_proba(X_test)[:, 1]"
      ],
      "metadata": {
        "id": "KciN59LZJ3Lm"
      },
      "execution_count": null,
      "outputs": []
    },
    {
      "cell_type": "code",
      "source": [
        "print(\"\\n--- Relatório de Classificação (XGBoost) ---\")\n",
        "print(classification_report(y_test, y_pred))\n",
        "\n",
        "print(\"\\n--- Matriz de Confusão (XGBoost) ---\")\n",
        "cm = confusion_matrix(y_test, y_pred)\n",
        "disp = ConfusionMatrixDisplay(confusion_matrix=cm)\n",
        "disp.plot(cmap='Blues')\n",
        "plt.title('Matriz de Confusão - XGBoost')\n",
        "plt.show()"
      ],
      "metadata": {
        "colab": {
          "base_uri": "https://localhost:8080/",
          "height": 698
        },
        "id": "ZgSK7MgwKEje",
        "outputId": "047bf95d-fac3-4b8e-fe7b-c94713b5bb24"
      },
      "execution_count": null,
      "outputs": [
        {
          "output_type": "stream",
          "name": "stdout",
          "text": [
            "\n",
            "--- Relatório de Classificação (XGBoost) ---\n",
            "              precision    recall  f1-score   support\n",
            "\n",
            "           0       0.70      0.74      0.72       477\n",
            "           1       0.84      0.82      0.83       823\n",
            "\n",
            "    accuracy                           0.79      1300\n",
            "   macro avg       0.77      0.78      0.77      1300\n",
            "weighted avg       0.79      0.79      0.79      1300\n",
            "\n",
            "\n",
            "--- Matriz de Confusão (XGBoost) ---\n"
          ]
        },
        {
          "output_type": "display_data",
          "data": {
            "text/plain": [
              "<Figure size 640x480 with 2 Axes>"
            ],
            "image/png": "[encoded data removed]"
          },
          "metadata": {}
        }
      ]
    }
  ]
}