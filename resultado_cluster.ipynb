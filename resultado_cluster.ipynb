{
  "cells": [
    {
      "cell_type": "markdown",
      "metadata": {
        "id": "view-in-github",
        "colab_type": "text"
      },
      "source": [
        "<a href=\"https://colab.research.google.com/github/BMateusSs/Projeto-PISI3/blob/main/resultado_cluster.ipynb\" target=\"_parent\"><img src=\"https://colab.research.google.com/assets/colab-badge.svg\" alt=\"Open In Colab\"/></a>"
      ]
    },
    {
      "cell_type": "code",
      "source": [
        "# Install dependencies as needed:\n",
        "import kagglehub\n",
        "from kagglehub import KaggleDatasetAdapter\n",
        "\n",
        "# Set the path to the file you'd like to load\n",
        "file_path = \"winemag-data-130k-v2.csv\"\n",
        "\n",
        "# Load the latest version\n",
        "df = kagglehub.load_dataset(\n",
        "  KaggleDatasetAdapter.PANDAS,\n",
        "  \"zynicide/wine-reviews\",\n",
        "  file_path\n",
        ")"
      ],
      "metadata": {
        "colab": {
          "base_uri": "https://localhost:8080/"
        },
        "id": "2-r8GK5AjODK",
        "outputId": "b7c447b8-4f50-49af-f179-b051f62c5670"
      },
      "execution_count": null,
      "outputs": [
        {
          "output_type": "stream",
          "name": "stderr",
          "text": [
            "/tmp/ipython-input-1-1525670069.py:9: DeprecationWarning: load_dataset is deprecated and will be removed in a future version.\n",
            "  df = kagglehub.load_dataset(\n"
          ]
        }
      ]
    },
    {
      "cell_type": "code",
      "source": [
        "# Retirar linhas incompletas\n",
        "df.dropna(axis=\"index\", how= \"any\", subset=[\"price\", \"points\", \"region_1\", \"country\", \"variety\", \"designation\"], inplace=True)\n",
        "final_lines_quantity = len(df[\"description\"])\n",
        "print(final_lines_quantity)"
      ],
      "metadata": {
        "colab": {
          "base_uri": "https://localhost:8080/"
        },
        "id": "K3L3m0adjOAX",
        "outputId": "c8618b03-0602-454e-ef4c-9a4ea18013ab"
      },
      "execution_count": null,
      "outputs": [
        {
          "output_type": "stream",
          "name": "stdout",
          "text": [
            "70175\n"
          ]
        }
      ]
    },
    {
      "cell_type": "code",
      "source": [
        "# Se for feito a limpeza das descrições para tirar stop words e pontuação\n",
        "# sentence transformer já lida com o stop words e pontuação\n",
        "import nltk\n",
        "from nltk.corpus import stopwords\n",
        "import string\n",
        "\n",
        "# Baixe as stopwords se ainda não as tiver\n",
        "try:\n",
        "    stopwords.words('english')\n",
        "except LookupError:\n",
        "    nltk.download('stopwords')\n",
        "\n",
        "stop_words = set(stopwords.words('english'))\n",
        "\n",
        "def clean_text(text):\n",
        "    # Converter para lowercase\n",
        "    text = text.lower()\n",
        "    # Remover pontuação\n",
        "    text = text.translate(str.maketrans('', '', string.punctuation))\n",
        "    # Remover stopwords\n",
        "    text = ' '.join([word for word in text.split() if word not in stop_words])\n",
        "    return text\n",
        "\n",
        "# Aplicar a função de limpeza na coluna 'description'\n",
        "df['description'] = df['description'].apply(clean_text)\n",
        "df.head()"
      ],
      "metadata": {
        "colab": {
          "base_uri": "https://localhost:8080/",
          "height": 588
        },
        "id": "6v1VWWVOjN95",
        "outputId": "496080da-6874-491c-ffb9-3979296d7f05"
      },
      "execution_count": null,
      "outputs": [
        {
          "output_type": "execute_result",
          "data": {
            "text/plain": [
              "   Unnamed: 0 country                                        description  \\\n",
              "3           3      US  pineapple rind lemon pith orange blossom start...   \n",
              "4           4      US  much like regular bottling 2012 comes across r...   \n",
              "5           5   Spain  blackberry raspberry aromas show typical navar...   \n",
              "6           6   Italy  heres bright informal red opens aromas candied...   \n",
              "9           9  France  great depth flavor fresh apple pear fruits tou...   \n",
              "\n",
              "                          designation  points  price           province  \\\n",
              "3                Reserve Late Harvest      87   13.0           Michigan   \n",
              "4  Vintner's Reserve Wild Child Block      87   65.0             Oregon   \n",
              "5                        Ars In Vitro      87   15.0     Northern Spain   \n",
              "6                             Belsito      87   16.0  Sicily & Sardinia   \n",
              "9                         Les Natures      87   27.0             Alsace   \n",
              "\n",
              "              region_1           region_2         taster_name  \\\n",
              "3  Lake Michigan Shore                NaN  Alexander Peartree   \n",
              "4    Willamette Valley  Willamette Valley        Paul Gregutt   \n",
              "5              Navarra                NaN   Michael Schachner   \n",
              "6             Vittoria                NaN       Kerin O’Keefe   \n",
              "9               Alsace                NaN          Roger Voss   \n",
              "\n",
              "  taster_twitter_handle                                              title  \\\n",
              "3                   NaN  St. Julian 2013 Reserve Late Harvest Riesling ...   \n",
              "4           @paulgwine   Sweet Cheeks 2012 Vintner's Reserve Wild Child...   \n",
              "5           @wineschach  Tandem 2011 Ars In Vitro Tempranillo-Merlot (N...   \n",
              "6          @kerinokeefe   Terre di Giurfo 2013 Belsito Frappato (Vittoria)   \n",
              "9            @vossroger  Jean-Baptiste Adam 2012 Les Natures Pinot Gris...   \n",
              "\n",
              "              variety              winery  \n",
              "3            Riesling          St. Julian  \n",
              "4          Pinot Noir        Sweet Cheeks  \n",
              "5  Tempranillo-Merlot              Tandem  \n",
              "6            Frappato     Terre di Giurfo  \n",
              "9          Pinot Gris  Jean-Baptiste Adam  "
            ],
            "text/html": [
              "\n",
              "  <div id=\"df-7481b43e-0d03-4239-a615-6769d0ae5cd8\" class=\"colab-df-container\">\n",
              "    <div>\n",
              "<style scoped>\n",
              "    .dataframe tbody tr th:only-of-type {\n",
              "        vertical-align: middle;\n",
              "    }\n",
              "\n",
              "    .dataframe tbody tr th {\n",
              "        vertical-align: top;\n",
              "    }\n",
              "\n",
              "    .dataframe thead th {\n",
              "        text-align: right;\n",
              "    }\n",
              "</style>\n",
              "<table border=\"1\" class=\"dataframe\">\n",
              "  <thead>\n",
              "    <tr style=\"text-align: right;\">\n",
              "      <th></th>\n",
              "      <th>Unnamed: 0</th>\n",
              "      <th>country</th>\n",
              "      <th>description</th>\n",
              "      <th>designation</th>\n",
              "      <th>points</th>\n",
              "      <th>price</th>\n",
              "      <th>province</th>\n",
              "      <th>region_1</th>\n",
              "      <th>region_2</th>\n",
              "      <th>taster_name</th>\n",
              "      <th>taster_twitter_handle</th>\n",
              "      <th>title</th>\n",
              "      <th>variety</th>\n",
              "      <th>winery</th>\n",
              "    </tr>\n",
              "  </thead>\n",
              "  <tbody>\n",
              "    <tr>\n",
              "      <th>3</th>\n",
              "      <td>3</td>\n",
              "      <td>US</td>\n",
              "      <td>pineapple rind lemon pith orange blossom start...</td>\n",
              "      <td>Reserve Late Harvest</td>\n",
              "      <td>87</td>\n",
              "      <td>13.0</td>\n",
              "      <td>Michigan</td>\n",
              "      <td>Lake Michigan Shore</td>\n",
              "      <td>NaN</td>\n",
              "      <td>Alexander Peartree</td>\n",
              "      <td>NaN</td>\n",
              "      <td>St. Julian 2013 Reserve Late Harvest Riesling ...</td>\n",
              "      <td>Riesling</td>\n",
              "      <td>St. Julian</td>\n",
              "    </tr>\n",
              "    <tr>\n",
              "      <th>4</th>\n",
              "      <td>4</td>\n",
              "      <td>US</td>\n",
              "      <td>much like regular bottling 2012 comes across r...</td>\n",
              "      <td>Vintner's Reserve Wild Child Block</td>\n",
              "      <td>87</td>\n",
              "      <td>65.0</td>\n",
              "      <td>Oregon</td>\n",
              "      <td>Willamette Valley</td>\n",
              "      <td>Willamette Valley</td>\n",
              "      <td>Paul Gregutt</td>\n",
              "      <td>@paulgwine</td>\n",
              "      <td>Sweet Cheeks 2012 Vintner's Reserve Wild Child...</td>\n",
              "      <td>Pinot Noir</td>\n",
              "      <td>Sweet Cheeks</td>\n",
              "    </tr>\n",
              "    <tr>\n",
              "      <th>5</th>\n",
              "      <td>5</td>\n",
              "      <td>Spain</td>\n",
              "      <td>blackberry raspberry aromas show typical navar...</td>\n",
              "      <td>Ars In Vitro</td>\n",
              "      <td>87</td>\n",
              "      <td>15.0</td>\n",
              "      <td>Northern Spain</td>\n",
              "      <td>Navarra</td>\n",
              "      <td>NaN</td>\n",
              "      <td>Michael Schachner</td>\n",
              "      <td>@wineschach</td>\n",
              "      <td>Tandem 2011 Ars In Vitro Tempranillo-Merlot (N...</td>\n",
              "      <td>Tempranillo-Merlot</td>\n",
              "      <td>Tandem</td>\n",
              "    </tr>\n",
              "    <tr>\n",
              "      <th>6</th>\n",
              "      <td>6</td>\n",
              "      <td>Italy</td>\n",
              "      <td>heres bright informal red opens aromas candied...</td>\n",
              "      <td>Belsito</td>\n",
              "      <td>87</td>\n",
              "      <td>16.0</td>\n",
              "      <td>Sicily &amp; Sardinia</td>\n",
              "      <td>Vittoria</td>\n",
              "      <td>NaN</td>\n",
              "      <td>Kerin O’Keefe</td>\n",
              "      <td>@kerinokeefe</td>\n",
              "      <td>Terre di Giurfo 2013 Belsito Frappato (Vittoria)</td>\n",
              "      <td>Frappato</td>\n",
              "      <td>Terre di Giurfo</td>\n",
              "    </tr>\n",
              "    <tr>\n",
              "      <th>9</th>\n",
              "      <td>9</td>\n",
              "      <td>France</td>\n",
              "      <td>great depth flavor fresh apple pear fruits tou...</td>\n",
              "      <td>Les Natures</td>\n",
              "      <td>87</td>\n",
              "      <td>27.0</td>\n",
              "      <td>Alsace</td>\n",
              "      <td>Alsace</td>\n",
              "      <td>NaN</td>\n",
              "      <td>Roger Voss</td>\n",
              "      <td>@vossroger</td>\n",
              "      <td>Jean-Baptiste Adam 2012 Les Natures Pinot Gris...</td>\n",
              "      <td>Pinot Gris</td>\n",
              "      <td>Jean-Baptiste Adam</td>\n",
              "    </tr>\n",
              "  </tbody>\n",
              "</table>\n",
              "</div>\n",
              "    <div class=\"colab-df-buttons\">\n",
              "\n",
              "  <div class=\"colab-df-container\">\n",
              "    <button class=\"colab-df-convert\" onclick=\"convertToInteractive('df-7481b43e-0d03-4239-a615-6769d0ae5cd8')\"\n",
              "            title=\"Convert this dataframe to an interactive table.\"\n",
              "            style=\"display:none;\">\n",
              "\n",
              "  <svg xmlns=\"http://www.w3.org/2000/svg\" height=\"24px\" viewBox=\"0 -960 960 960\">\n",
              "    <path d=\"M120-120v-720h720v720H120Zm60-500h600v-160H180v160Zm220 220h160v-160H400v160Zm0 220h160v-160H400v160ZM180-400h160v-160H180v160Zm440 0h160v-160H620v160ZM180-180h160v-160H180v160Zm440 0h160v-160H620v160Z\"/>\n",
              "  </svg>\n",
              "    </button>\n",
              "\n",
              "  <style>\n",
              "    .colab-df-container {\n",
              "      display:flex;\n",
              "      gap: 12px;\n",
              "    }\n",
              "\n",
              "    .colab-df-convert {\n",
              "      background-color: #E8F0FE;\n",
              "      border: none;\n",
              "      border-radius: 50%;\n",
              "      cursor: pointer;\n",
              "      display: none;\n",
              "      fill: #1967D2;\n",
              "      height: 32px;\n",
              "      padding: 0 0 0 0;\n",
              "      width: 32px;\n",
              "    }\n",
              "\n",
              "    .colab-df-convert:hover {\n",
              "      background-color: #E2EBFA;\n",
              "      box-shadow: 0px 1px 2px rgba(60, 64, 67, 0.3), 0px 1px 3px 1px rgba(60, 64, 67, 0.15);\n",
              "      fill: #174EA6;\n",
              "    }\n",
              "\n",
              "    .colab-df-buttons div {\n",
              "      margin-bottom: 4px;\n",
              "    }\n",
              "\n",
              "    [theme=dark] .colab-df-convert {\n",
              "      background-color: #3B4455;\n",
              "      fill: #D2E3FC;\n",
              "    }\n",
              "\n",
              "    [theme=dark] .colab-df-convert:hover {\n",
              "      background-color: #434B5C;\n",
              "      box-shadow: 0px 1px 3px 1px rgba(0, 0, 0, 0.15);\n",
              "      filter: drop-shadow(0px 1px 2px rgba(0, 0, 0, 0.3));\n",
              "      fill: #FFFFFF;\n",
              "    }\n",
              "  </style>\n",
              "\n",
              "    <script>\n",
              "      const buttonEl =\n",
              "        document.querySelector('#df-7481b43e-0d03-4239-a615-6769d0ae5cd8 button.colab-df-convert');\n",
              "      buttonEl.style.display =\n",
              "        google.colab.kernel.accessAllowed ? 'block' : 'none';\n",
              "\n",
              "      async function convertToInteractive(key) {\n",
              "        const element = document.querySelector('#df-7481b43e-0d03-4239-a615-6769d0ae5cd8');\n",
              "        const dataTable =\n",
              "          await google.colab.kernel.invokeFunction('convertToInteractive',\n",
              "                                                    [key], {});\n",
              "        if (!dataTable) return;\n",
              "\n",
              "        const docLinkHtml = 'Like what you see? Visit the ' +\n",
              "          '<a target=\"_blank\" href=https://colab.research.google.com/notebooks/data_table.ipynb>data table notebook</a>'\n",
              "          + ' to learn more about interactive tables.';\n",
              "        element.innerHTML = '';\n",
              "        dataTable['output_type'] = 'display_data';\n",
              "        await google.colab.output.renderOutput(dataTable, element);\n",
              "        const docLink = document.createElement('div');\n",
              "        docLink.innerHTML = docLinkHtml;\n",
              "        element.appendChild(docLink);\n",
              "      }\n",
              "    </script>\n",
              "  </div>\n",
              "\n",
              "\n",
              "    <div id=\"df-c061c840-0f79-4a9f-a2d5-b45354d7d2ff\">\n",
              "      <button class=\"colab-df-quickchart\" onclick=\"quickchart('df-c061c840-0f79-4a9f-a2d5-b45354d7d2ff')\"\n",
              "                title=\"Suggest charts\"\n",
              "                style=\"display:none;\">\n",
              "\n",
              "<svg xmlns=\"http://www.w3.org/2000/svg\" height=\"24px\"viewBox=\"0 0 24 24\"\n",
              "     width=\"24px\">\n",
              "    <g>\n",
              "        <path d=\"M19 3H5c-1.1 0-2 .9-2 2v14c0 1.1.9 2 2 2h14c1.1 0 2-.9 2-2V5c0-1.1-.9-2-2-2zM9 17H7v-7h2v7zm4 0h-2V7h2v10zm4 0h-2v-4h2v4z\"/>\n",
              "    </g>\n",
              "</svg>\n",
              "      </button>\n",
              "\n",
              "<style>\n",
              "  .colab-df-quickchart {\n",
              "      --bg-color: #E8F0FE;\n",
              "      --fill-color: #1967D2;\n",
              "      --hover-bg-color: #E2EBFA;\n",
              "      --hover-fill-color: #174EA6;\n",
              "      --disabled-fill-color: #AAA;\n",
              "      --disabled-bg-color: #DDD;\n",
              "  }\n",
              "\n",
              "  [theme=dark] .colab-df-quickchart {\n",
              "      --bg-color: #3B4455;\n",
              "      --fill-color: #D2E3FC;\n",
              "      --hover-bg-color: #434B5C;\n",
              "      --hover-fill-color: #FFFFFF;\n",
              "      --disabled-bg-color: #3B4455;\n",
              "      --disabled-fill-color: #666;\n",
              "  }\n",
              "\n",
              "  .colab-df-quickchart {\n",
              "    background-color: var(--bg-color);\n",
              "    border: none;\n",
              "    border-radius: 50%;\n",
              "    cursor: pointer;\n",
              "    display: none;\n",
              "    fill: var(--fill-color);\n",
              "    height: 32px;\n",
              "    padding: 0;\n",
              "    width: 32px;\n",
              "  }\n",
              "\n",
              "  .colab-df-quickchart:hover {\n",
              "    background-color: var(--hover-bg-color);\n",
              "    box-shadow: 0 1px 2px rgba(60, 64, 67, 0.3), 0 1px 3px 1px rgba(60, 64, 67, 0.15);\n",
              "    fill: var(--button-hover-fill-color);\n",
              "  }\n",
              "\n",
              "  .colab-df-quickchart-complete:disabled,\n",
              "  .colab-df-quickchart-complete:disabled:hover {\n",
              "    background-color: var(--disabled-bg-color);\n",
              "    fill: var(--disabled-fill-color);\n",
              "    box-shadow: none;\n",
              "  }\n",
              "\n",
              "  .colab-df-spinner {\n",
              "    border: 2px solid var(--fill-color);\n",
              "    border-color: transparent;\n",
              "    border-bottom-color: var(--fill-color);\n",
              "    animation:\n",
              "      spin 1s steps(1) infinite;\n",
              "  }\n",
              "\n",
              "  @keyframes spin {\n",
              "    0% {\n",
              "      border-color: transparent;\n",
              "      border-bottom-color: var(--fill-color);\n",
              "      border-left-color: var(--fill-color);\n",
              "    }\n",
              "    20% {\n",
              "      border-color: transparent;\n",
              "      border-left-color: var(--fill-color);\n",
              "      border-top-color: var(--fill-color);\n",
              "    }\n",
              "    30% {\n",
              "      border-color: transparent;\n",
              "      border-left-color: var(--fill-color);\n",
              "      border-top-color: var(--fill-color);\n",
              "      border-right-color: var(--fill-color);\n",
              "    }\n",
              "    40% {\n",
              "      border-color: transparent;\n",
              "      border-right-color: var(--fill-color);\n",
              "      border-top-color: var(--fill-color);\n",
              "    }\n",
              "    60% {\n",
              "      border-color: transparent;\n",
              "      border-right-color: var(--fill-color);\n",
              "    }\n",
              "    80% {\n",
              "      border-color: transparent;\n",
              "      border-right-color: var(--fill-color);\n",
              "      border-bottom-color: var(--fill-color);\n",
              "    }\n",
              "    90% {\n",
              "      border-color: transparent;\n",
              "      border-bottom-color: var(--fill-color);\n",
              "    }\n",
              "  }\n",
              "</style>\n",
              "\n",
              "      <script>\n",
              "        async function quickchart(key) {\n",
              "          const quickchartButtonEl =\n",
              "            document.querySelector('#' + key + ' button');\n",
              "          quickchartButtonEl.disabled = true;  // To prevent multiple clicks.\n",
              "          quickchartButtonEl.classList.add('colab-df-spinner');\n",
              "          try {\n",
              "            const charts = await google.colab.kernel.invokeFunction(\n",
              "                'suggestCharts', [key], {});\n",
              "          } catch (error) {\n",
              "            console.error('Error during call to suggestCharts:', error);\n",
              "          }\n",
              "          quickchartButtonEl.classList.remove('colab-df-spinner');\n",
              "          quickchartButtonEl.classList.add('colab-df-quickchart-complete');\n",
              "        }\n",
              "        (() => {\n",
              "          let quickchartButtonEl =\n",
              "            document.querySelector('#df-c061c840-0f79-4a9f-a2d5-b45354d7d2ff button');\n",
              "          quickchartButtonEl.style.display =\n",
              "            google.colab.kernel.accessAllowed ? 'block' : 'none';\n",
              "        })();\n",
              "      </script>\n",
              "    </div>\n",
              "\n",
              "    </div>\n",
              "  </div>\n"
            ],
            "application/vnd.google.colaboratory.intrinsic+json": {
              "type": "dataframe",
              "variable_name": "df",
              "summary": "{\n  \"name\": \"df\",\n  \"rows\": 70175,\n  \"fields\": [\n    {\n      \"column\": \"Unnamed: 0\",\n      \"properties\": {\n        \"dtype\": \"number\",\n        \"std\": 37498,\n        \"min\": 3,\n        \"max\": 129970,\n        \"num_unique_values\": 70175,\n        \"samples\": [\n          126821,\n          19335,\n          15517\n        ],\n        \"semantic_type\": \"\",\n        \"description\": \"\"\n      }\n    },\n    {\n      \"column\": \"country\",\n      \"properties\": {\n        \"dtype\": \"category\",\n        \"num_unique_values\": 7,\n        \"samples\": [\n          \"US\",\n          \"Spain\",\n          \"Australia\"\n        ],\n        \"semantic_type\": \"\",\n        \"description\": \"\"\n      }\n    },\n    {\n      \"column\": \"description\",\n      \"properties\": {\n        \"dtype\": \"string\",\n        \"num_unique_values\": 64756,\n        \"samples\": [\n          \"seen 20 months french oak aromas wine dominated cola rooibos tones light mediumbodied palate shows fruit tones juicy red cherry black currant taking almost candied flavor sandy tannins line acidity give enough support keep pinot check\",\n          \"baked earthy minerally berry fruit aromas suggest lead pencil roasted plum cassis raspberry palate lush pure balanced classic priorat flavors mineraltinged blackberry plum chunky smooth finish broad soft tannins theres bite harshness drink 2014\",\n          \"lean compact fiano puglia offers drying mineral yellow fruit overall wine neutral impression leaves palate short simple\"\n        ],\n        \"semantic_type\": \"\",\n        \"description\": \"\"\n      }\n    },\n    {\n      \"column\": \"designation\",\n      \"properties\": {\n        \"dtype\": \"category\",\n        \"num_unique_values\": 29317,\n        \"samples\": [\n          \"Carneros Cuv\\u00e9e\",\n          \"Morar\",\n          \"Cuv\\u00e9e Arlette\"\n        ],\n        \"semantic_type\": \"\",\n        \"description\": \"\"\n      }\n    },\n    {\n      \"column\": \"points\",\n      \"properties\": {\n        \"dtype\": \"number\",\n        \"std\": 3,\n        \"min\": 80,\n        \"max\": 100,\n        \"num_unique_values\": 21,\n        \"samples\": [\n          87,\n          83,\n          94\n        ],\n        \"semantic_type\": \"\",\n        \"description\": \"\"\n      }\n    },\n    {\n      \"column\": \"price\",\n      \"properties\": {\n        \"dtype\": \"number\",\n        \"std\": 35.729357516144184,\n        \"min\": 4.0,\n        \"max\": 2013.0,\n        \"num_unique_values\": 297,\n        \"samples\": [\n          153.0,\n          122.0,\n          160.0\n        ],\n        \"semantic_type\": \"\",\n        \"description\": \"\"\n      }\n    },\n    {\n      \"column\": \"province\",\n      \"properties\": {\n        \"dtype\": \"category\",\n        \"num_unique_values\": 65,\n        \"samples\": [\n          \"Massachusetts\",\n          \"Connecticut\",\n          \"Michigan\"\n        ],\n        \"semantic_type\": \"\",\n        \"description\": \"\"\n      }\n    },\n    {\n      \"column\": \"region_1\",\n      \"properties\": {\n        \"dtype\": \"category\",\n        \"num_unique_values\": 1109,\n        \"samples\": [\n          \"Oregon Other\",\n          \"Niagara Peninsula\",\n          \"Alto Adige\"\n        ],\n        \"semantic_type\": \"\",\n        \"description\": \"\"\n      }\n    },\n    {\n      \"column\": \"region_2\",\n      \"properties\": {\n        \"dtype\": \"category\",\n        \"num_unique_values\": 17,\n        \"samples\": [\n          \"Willamette Valley\",\n          \"Napa\",\n          \"Finger Lakes\"\n        ],\n        \"semantic_type\": \"\",\n        \"description\": \"\"\n      }\n    },\n    {\n      \"column\": \"taster_name\",\n      \"properties\": {\n        \"dtype\": \"category\",\n        \"num_unique_values\": 17,\n        \"samples\": [\n          \"Alexander Peartree\",\n          \"Paul Gregutt\",\n          \"Virginie Boone\"\n        ],\n        \"semantic_type\": \"\",\n        \"description\": \"\"\n      }\n    },\n    {\n      \"column\": \"taster_twitter_handle\",\n      \"properties\": {\n        \"dtype\": \"category\",\n        \"num_unique_values\": 14,\n        \"samples\": [\n          \"@AnneInVino\",\n          \"@laurbuzz\",\n          \"@paulgwine\\u00a0\"\n        ],\n        \"semantic_type\": \"\",\n        \"description\": \"\"\n      }\n    },\n    {\n      \"column\": \"title\",\n      \"properties\": {\n        \"dtype\": \"string\",\n        \"num_unique_values\": 64046,\n        \"samples\": [\n          \"Heron Hill 2010 Bunch Select Late Harvest Riesling (Finger Lakes)\",\n          \"Cueva de las Manos 2007 Reserve Malbec (Luj\\u00e1n de Cuyo)\",\n          \"Williamson Wines 2006 Seduce Cabernet Sauvignon (Dry Creek Valley)\"\n        ],\n        \"semantic_type\": \"\",\n        \"description\": \"\"\n      }\n    },\n    {\n      \"column\": \"variety\",\n      \"properties\": {\n        \"dtype\": \"category\",\n        \"num_unique_values\": 473,\n        \"samples\": [\n          \"Sparkling Blend\",\n          \"Gr\\u00fcner Veltliner\",\n          \"Grenache Blanc\"\n        ],\n        \"semantic_type\": \"\",\n        \"description\": \"\"\n      }\n    },\n    {\n      \"column\": \"winery\",\n      \"properties\": {\n        \"dtype\": \"category\",\n        \"num_unique_values\": 10030,\n        \"samples\": [\n          \"Koenig Vineyards\",\n          \"Tenuta Fujanera\",\n          \"Amastuola\"\n        ],\n        \"semantic_type\": \"\",\n        \"description\": \"\"\n      }\n    }\n  ]\n}"
            }
          },
          "metadata": {},
          "execution_count": 3
        }
      ]
    },
    {
      "cell_type": "code",
      "source": [
        "# Funções de escrita e leitura de arquivos numpy\n",
        "import numpy as np\n",
        "def write_numpy_file(write_path, content):\n",
        "    np.save(write_path, content)\n",
        "\n",
        "def read_numpy_file(read_path):\n",
        "    return np.load(read_path)\n",
        "\n",
        "# Funções de escrita e leitura de arquivos CSV\n",
        "import numpy as np\n",
        "import pandas as pd\n",
        "\n",
        "def write_embeddings_csv(write_path: str, embeddings_array: np.ndarray):\n",
        "    \"\"\"Salva um array numpy de embeddings em um arquivo CSV.\"\"\"\n",
        "    # Converter o array numpy para um DataFrame pandas para facilitar o salvamento em CSV\n",
        "    df_embeddings = pd.DataFrame(embeddings_array)\n",
        "    # Salvar o DataFrame em CSV. index=False para não salvar o índice do DataFrame como coluna.\n",
        "    df_embeddings.to_csv(write_path, index=False)\n",
        "    print(f\"Embeddings salvos como CSV em: {write_path}\")\n",
        "\n",
        "\n",
        "def read_embeddings_csv(read_path: str) -> np.ndarray:\n",
        "    \"\"\"Lê embeddings de um arquivo CSV e retorna como um array numpy.\"\"\"\n",
        "    # Ler o arquivo CSV para um DataFrame pandas\n",
        "    df_embeddings = pd.read_csv(read_path)\n",
        "    # Converter o DataFrame de volta para um array numpy\n",
        "    embeddings_array = df_embeddings.values\n",
        "    print(f\"Embeddings lidos de CSV: {read_path}\")\n",
        "    return embeddings_array"
      ],
      "metadata": {
        "id": "0MJBYa43jN7m"
      },
      "execution_count": null,
      "outputs": []
    },
    {
      "cell_type": "code",
      "source": [
        "#Ler emdebddings 2d\n",
        "# Funções de escrita e leitura de arquivos CSV (mantenha essas funções definidas)\n",
        "import numpy as np\n",
        "import pandas as pd\n",
        "import gdown\n",
        "import os\n",
        "\n",
        "# Mantenha a definição da função read_embeddings_csv\n",
        "def read_embeddings_csv(read_path: str) -> np.ndarray:\n",
        "    \"\"\"Lê embeddings de um arquivo CSV e retorna como um array numpy.\"\"\"\n",
        "    # Ler o arquivo CSV para um DataFrame pandas\n",
        "    df_embeddings = pd.read_csv(read_path)\n",
        "    # Converter o DataFrame de volta para um array numpy\n",
        "    embeddings_array = df_embeddings.values\n",
        "    print(f\"Embeddings lidos de CSV: {read_path}\")\n",
        "    return embeddings_array\n",
        "\n",
        "# --- Agora, use o link do Google Drive para baixar e carregar ---\n",
        "\n",
        "# Define o link do Google Drive para o arquivo CSV\n",
        "# Gdown geralmente consegue lidar com o link 'sharing', mas o formato 'uc' é mais robusto para download direto.\n",
        "# Vamos extrair o ID do link e usar o formato 'uc'.\n",
        "drive_link = \"https://drive.google.com/file/d/11-6rZ7TXr5Gato7iIkBHv8XYy5ScNqMx/view?usp=sharing\"\n",
        "\n",
        "# Extrair o ID do arquivo do link\n",
        "# O ID está entre '/d/' e '/view'\n",
        "drive_file_id = drive_link.split('/d/')[1].split('/view')[0]\n",
        "\n",
        "# Construir o URL de download direto usando o ID\n",
        "download_url = f\"https://drive.google.com/uc?id={drive_file_id}\"\n",
        "\n",
        "# Define o caminho de saída onde o arquivo será salvo temporariamente no Colab\n",
        "output_csv_path = \"downloaded_embeddings_2d.csv\"\n",
        "\n",
        "print(f\"Tentando baixar o arquivo do Google Drive ID: {drive_file_id}\")\n",
        "\n",
        "try:\n",
        "    # Baixar o arquivo CSV usando gdown\n",
        "    gdown.download(download_url, output_csv_path, quiet=False)\n",
        "    print(f\"Arquivo baixado com sucesso para {output_csv_path}\")\n",
        "\n",
        "    # Carregar o arquivo CSV baixado usando a função definida\n",
        "    embeddings_2d = read_embeddings_csv(output_csv_path)\n",
        "\n",
        "    print(f\"Dados carregados na variável embeddings_2d. Forma: {embeddings_2d.shape}\")\n",
        "\n",
        "    # Opcional: remover o arquivo CSV baixado para liberar espaço\n",
        "    # os.remove(output_csv_path)\n",
        "    # print(f\"Arquivo temporário {output_csv_path} removido.\")\n",
        "\n",
        "except Exception as e:\n",
        "    print(f\"Ocorreu um erro durante o download ou carregamento do CSV: {e}\")\n",
        "    print(\"Por favor, verifique se o link do Google Drive está correto e o arquivo é acessível (compartilhado).\")\n",
        "\n",
        "print(len(embeddings_2d))\n",
        "# Agora a variável 'embeddings_2d' deve conter os dados carregados do CSV.\n",
        "# Você pode continuar com as etapas de K-Means, etc., usando 'embeddings_2d'."
      ],
      "metadata": {
        "colab": {
          "base_uri": "https://localhost:8080/"
        },
        "id": "WoXlvSxyjN5C",
        "outputId": "ddcc89c8-4484-4509-dee2-90a08ddb7f74"
      },
      "execution_count": null,
      "outputs": [
        {
          "output_type": "stream",
          "name": "stdout",
          "text": [
            "Tentando baixar o arquivo do Google Drive ID: 11-6rZ7TXr5Gato7iIkBHv8XYy5ScNqMx\n"
          ]
        },
        {
          "output_type": "stream",
          "name": "stderr",
          "text": [
            "Downloading...\n",
            "From: https://drive.google.com/uc?id=11-6rZ7TXr5Gato7iIkBHv8XYy5ScNqMx\n",
            "To: /content/downloaded_embeddings_2d.csv\n",
            "100%|██████████| 1.43M/1.43M [00:00<00:00, 105MB/s]"
          ]
        },
        {
          "output_type": "stream",
          "name": "stdout",
          "text": [
            "Arquivo baixado com sucesso para downloaded_embeddings_2d.csv\n",
            "Embeddings lidos de CSV: downloaded_embeddings_2d.csv\n",
            "Dados carregados na variável embeddings_2d. Forma: (70175, 2)\n",
            "70175\n"
          ]
        },
        {
          "output_type": "stream",
          "name": "stderr",
          "text": [
            "\n"
          ]
        }
      ]
    },
    {
      "cell_type": "code",
      "source": [
        "import pandas as pd\n",
        "import numpy as np\n",
        "from sklearn.preprocessing import StandardScaler\n",
        "from sklearn.cluster import KMeans, DBSCAN, AgglomerativeClustering\n",
        "from sklearn.metrics import silhouette_score, davies_bouldin_score, calinski_harabasz_score\n",
        "from scipy.cluster.hierarchy import linkage, fcluster\n",
        "from sklearn.mixture import GaussianMixture\n",
        "import matplotlib.pyplot as plt\n",
        "import warnings\n",
        "\n",
        "warnings.filterwarnings('ignore')"
      ],
      "metadata": {
        "id": "fwistB4_oW-Y"
      },
      "execution_count": null,
      "outputs": []
    },
    {
      "cell_type": "code",
      "source": [
        "# --- 1. Padroniza os Dados ---\n",
        "scaler = StandardScaler()\n",
        "X_scaled = scaler.fit_transform(embeddings_2d)\n",
        "print(\"\\nDados padronizados com o StandardScaler.\")"
      ],
      "metadata": {
        "colab": {
          "base_uri": "https://localhost:8080/"
        },
        "id": "6B96AL-VoaZx",
        "outputId": "e005c6c1-b060-4115-e37a-6312e464879f"
      },
      "execution_count": null,
      "outputs": [
        {
          "output_type": "stream",
          "name": "stdout",
          "text": [
            "\n",
            "Dados padronizados com o StandardScaler.\n"
          ]
        }
      ]
    },
    {
      "cell_type": "code",
      "source": [
        "# --- 3. Elbow Method para KMeans ---\n",
        "wcss = []\n",
        "k_range = range(1, 11)\n",
        "for i in k_range:\n",
        "    kmeans = KMeans(n_clusters=i, init='k-means++', random_state=42, n_init=10)\n",
        "    kmeans.fit(X_scaled)\n",
        "    wcss.append(kmeans.inertia_)\n",
        "\n",
        "plt.figure(figsize=(10, 6))\n",
        "plt.plot(k_range, wcss, marker='o', linestyle='--')\n",
        "plt.title('Método do Cotovelo para K-Means')\n",
        "plt.xlabel('Número de Clusters (k)')\n",
        "plt.ylabel('WCSS')\n",
        "plt.xticks(k_range)\n",
        "plt.grid(True)\n",
        "plt.savefig('elbow_method.png')\n",
        "print(\"\\nGráfico do Método do Cotovelo salvo como 'elbow_method.png'\")\n",
        "\n",
        "# --- 4. Clustering ---\n",
        "optimal_k = 4\n",
        "print(f\"K ótimo escolhido: {optimal_k}\")\n",
        "\n",
        "kmeans_labels = KMeans(n_clusters=optimal_k, init='k-means++', random_state=42, n_init=10).fit_predict(X_scaled)\n",
        "print(f\"-> K-Means com {optimal_k} clusters treinado.\")"
      ],
      "metadata": {
        "colab": {
          "base_uri": "https://localhost:8080/",
          "height": 638
        },
        "id": "peU2Za8mofG3",
        "outputId": "4904cbad-b411-4492-cd95-b47456e0edd7"
      },
      "execution_count": null,
      "outputs": [
        {
          "output_type": "stream",
          "name": "stdout",
          "text": [
            "\n",
            "Gráfico do Método do Cotovelo salvo como 'elbow_method.png'\n",
            "K ótimo escolhido: 4\n",
            "-> K-Means com 4 clusters treinado.\n"
          ]
        },
        {
          "output_type": "display_data",
          "data": {
            "text/plain": [
              "<Figure size 1000x600 with 1 Axes>"
            ],
            "image/png": "[encoded data removed]"
          },
          "metadata": {}
        }
      ]
    },
    {
      "cell_type": "code",
      "source": [
        "dbscan = DBSCAN(eps=0.125, min_samples=10)\n",
        "dbscan_labels = dbscan.fit_predict(X_scaled)\n",
        "n_clusters_dbscan = len(set(dbscan_labels)) - (1 if -1 in dbscan_labels else 0)\n",
        "print(f\"-> DBSCAN treinado com {n_clusters_dbscan} clusters.\")"
      ],
      "metadata": {
        "colab": {
          "base_uri": "https://localhost:8080/"
        },
        "id": "SbrpaKEooscy",
        "outputId": "41b02e5d-814f-4841-bc8d-9beda4b78789"
      },
      "execution_count": null,
      "outputs": [
        {
          "output_type": "stream",
          "name": "stdout",
          "text": [
            "-> DBSCAN treinado com 8 clusters.\n"
          ]
        }
      ]
    },
    {
      "cell_type": "code",
      "source": [
        "gmm_final = GaussianMixture(n_components=20, random_state=42, n_init=10)\n",
        "clusters_gmm = gmm_final.fit_predict(embeddings_2d)"
      ],
      "metadata": {
        "id": "tKr8P1xzpFNE"
      },
      "execution_count": null,
      "outputs": []
    },
    {
      "cell_type": "code",
      "source": [
        "# --- 5. Avaliação ---\n",
        "from sklearn.metrics import silhouette_score, davies_bouldin_score, calinski_harabasz_score\n",
        "\n",
        "results = {\n",
        "    'K-Means': {\n",
        "        'Silhouette': silhouette_score(X_scaled, kmeans_labels),\n",
        "        'Davies-Bouldin': davies_bouldin_score(X_scaled, kmeans_labels),\n",
        "        'Calinski-Harabasz': calinski_harabasz_score(X_scaled, kmeans_labels)\n",
        "    },\n",
        "    'DBSCAN': {\n",
        "        'Silhouette': silhouette_score(X_scaled, dbscan_labels) if n_clusters_dbscan > 1 else 'N/A',\n",
        "        'Davies-Bouldin': davies_bouldin_score(X_scaled, dbscan_labels) if n_clusters_dbscan > 1 else 'N/A',\n",
        "        'Calinski-Harabasz': calinski_harabasz_score(X_scaled, dbscan_labels) if n_clusters_dbscan > 1 else 'N/A'\n",
        "    }\n",
        "    ,\n",
        "    'GMM': {\n",
        "        'Silhouette': silhouette_score(X_scaled, clusters_gmm),\n",
        "        'Davies-Bouldin': davies_bouldin_score(X_scaled, clusters_gmm),\n",
        "        'Calinski-Harabasz': calinski_harabasz_score(X_scaled, clusters_gmm)\n",
        "    }\n",
        "}"
      ],
      "metadata": {
        "id": "kkB_2d72pJJe"
      },
      "execution_count": null,
      "outputs": []
    },
    {
      "cell_type": "code",
      "execution_count": null,
      "metadata": {
        "colab": {
          "base_uri": "https://localhost:8080/"
        },
        "id": "TYgzfE3_QekT",
        "outputId": "5817a302-c88a-4147-ccd3-7fce6a860d14"
      },
      "outputs": [
        {
          "output_type": "stream",
          "name": "stdout",
          "text": [
            "\n",
            "============================================================\n",
            "       TABELA COMPARATIVA DE MÉTRICAS DE CLUSTERIZAÇÃO\n",
            "============================================================\n",
            "         Silhouette  Davies-Bouldin  Calinski-Harabasz\n",
            "K-Means    0.450822        0.792272       67703.726906\n",
            "DBSCAN    -0.235374        0.712021        1654.024481\n",
            "GMM        0.383839        0.832541       70240.680412\n",
            "============================================================\n"
          ]
        }
      ],
      "source": [
        "# --- 6. Mostra Resultados ---\n",
        "df_results = pd.DataFrame(results).T\n",
        "print(\"\\n\" + \"=\"*60)\n",
        "print(\"       TABELA COMPARATIVA DE MÉTRICAS DE CLUSTERIZAÇÃO\")\n",
        "print(\"=\"*60)\n",
        "print(df_results.to_string())\n",
        "print(\"=\"*60)"
      ]
    }
  ],
  "metadata": {
    "colab": {
      "provenance": [],
      "include_colab_link": true
    },
    "kernelspec": {
      "display_name": "Python 3",
      "name": "python3"
    },
    "language_info": {
      "name": "python"
    }
  },
  "nbformat": 4,
  "nbformat_minor": 0
}