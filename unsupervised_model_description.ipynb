{
 "cells": [
  {
   "cell_type": "markdown",
   "metadata": {
    "id": "view-in-github",
    "colab_type": "text"
   },
   "source": [
    "<a href=\"https://colab.research.google.com/github/BMateusSs/Projeto-PISI3/blob/main/exploratory_analysis.ipynb\" target=\"_parent\"><img src=\"https://colab.research.google.com/assets/colab-badge.svg\" alt=\"Open In Colab\"/></a>"
   ],
   "id": "8c36cb0fee16a80f"
  },
  {
   "cell_type": "code",
   "id": "d3e777fc318e6214",
   "metadata": {
    "id": "d3e777fc318e6214",
    "outputId": "feffe48c-46cf-452e-af27-8ba47e8f7b27",
    "colab": {
     "base_uri": "https://localhost:8080/",
     "height": 651
    },
    "ExecuteTime": {
     "end_time": "2025-06-11T01:09:40.068892Z",
     "start_time": "2025-06-11T01:09:37.993406Z"
    }
   },
   "source": [
    "# Install dependencies as needed:\n",
    "import kagglehub\n",
    "from kagglehub import KaggleDatasetAdapter\n",
    "\n",
    "# Set the path to the file you'd like to load\n",
    "file_path = \"winemag-data-130k-v2.csv\"\n",
    "\n",
    "# Load the latest version\n",
    "df = kagglehub.load_dataset(\n",
    "  KaggleDatasetAdapter.PANDAS,\n",
    "  \"zynicide/wine-reviews\",\n",
    "  file_path\n",
    ")"
   ],
   "outputs": [
    {
     "name": "stderr",
     "output_type": "stream",
     "text": [
      "/tmp/ipykernel_70058/4183834007.py:9: DeprecationWarning: load_dataset is deprecated and will be removed in a future version.\n",
      "  df = kagglehub.load_dataset(\n"
     ]
    }
   ],
   "execution_count": 1
  },
  {
   "cell_type": "markdown",
   "source": [
    "Limpeza dos dados"
   ],
   "metadata": {
    "id": "NaLMlPsSlC90"
   },
   "id": "NaLMlPsSlC90"
  },
  {
   "cell_type": "code",
   "source": [
    "initial_lines_quantity = len(df['description'])\n",
    "print(initial_lines_quantity)\n",
    "df.head()"
   ],
   "metadata": {
    "colab": {
     "base_uri": "https://localhost:8080/"
    },
    "id": "6LV4vCwGlFM8",
    "outputId": "3d16097b-8f92-4aa6-9cb2-7fce4a77617d",
    "ExecuteTime": {
     "end_time": "2025-06-11T01:09:50.404269Z",
     "start_time": "2025-06-11T01:09:50.391122Z"
    }
   },
   "id": "6LV4vCwGlFM8",
   "outputs": [
    {
     "name": "stdout",
     "output_type": "stream",
     "text": [
      "129971\n"
     ]
    },
    {
     "data": {
      "text/plain": [
       "   Unnamed: 0   country                                        description  \\\n",
       "0           0     Italy  Aromas include tropical fruit, broom, brimston...   \n",
       "1           1  Portugal  This is ripe and fruity, a wine that is smooth...   \n",
       "2           2        US  Tart and snappy, the flavors of lime flesh and...   \n",
       "3           3        US  Pineapple rind, lemon pith and orange blossom ...   \n",
       "4           4        US  Much like the regular bottling from 2012, this...   \n",
       "\n",
       "                          designation  points  price           province  \\\n",
       "0                        Vulkà Bianco      87    NaN  Sicily & Sardinia   \n",
       "1                            Avidagos      87   15.0              Douro   \n",
       "2                                 NaN      87   14.0             Oregon   \n",
       "3                Reserve Late Harvest      87   13.0           Michigan   \n",
       "4  Vintner's Reserve Wild Child Block      87   65.0             Oregon   \n",
       "\n",
       "              region_1           region_2         taster_name  \\\n",
       "0                 Etna                NaN       Kerin O’Keefe   \n",
       "1                  NaN                NaN          Roger Voss   \n",
       "2    Willamette Valley  Willamette Valley        Paul Gregutt   \n",
       "3  Lake Michigan Shore                NaN  Alexander Peartree   \n",
       "4    Willamette Valley  Willamette Valley        Paul Gregutt   \n",
       "\n",
       "  taster_twitter_handle                                              title  \\\n",
       "0          @kerinokeefe                  Nicosia 2013 Vulkà Bianco  (Etna)   \n",
       "1            @vossroger      Quinta dos Avidagos 2011 Avidagos Red (Douro)   \n",
       "2           @paulgwine       Rainstorm 2013 Pinot Gris (Willamette Valley)   \n",
       "3                   NaN  St. Julian 2013 Reserve Late Harvest Riesling ...   \n",
       "4           @paulgwine   Sweet Cheeks 2012 Vintner's Reserve Wild Child...   \n",
       "\n",
       "          variety               winery  \n",
       "0     White Blend              Nicosia  \n",
       "1  Portuguese Red  Quinta dos Avidagos  \n",
       "2      Pinot Gris            Rainstorm  \n",
       "3        Riesling           St. Julian  \n",
       "4      Pinot Noir         Sweet Cheeks  "
      ],
      "text/html": [
       "<div>\n",
       "<style scoped>\n",
       "    .dataframe tbody tr th:only-of-type {\n",
       "        vertical-align: middle;\n",
       "    }\n",
       "\n",
       "    .dataframe tbody tr th {\n",
       "        vertical-align: top;\n",
       "    }\n",
       "\n",
       "    .dataframe thead th {\n",
       "        text-align: right;\n",
       "    }\n",
       "</style>\n",
       "<table border=\"1\" class=\"dataframe\">\n",
       "  <thead>\n",
       "    <tr style=\"text-align: right;\">\n",
       "      <th></th>\n",
       "      <th>Unnamed: 0</th>\n",
       "      <th>country</th>\n",
       "      <th>description</th>\n",
       "      <th>designation</th>\n",
       "      <th>points</th>\n",
       "      <th>price</th>\n",
       "      <th>province</th>\n",
       "      <th>region_1</th>\n",
       "      <th>region_2</th>\n",
       "      <th>taster_name</th>\n",
       "      <th>taster_twitter_handle</th>\n",
       "      <th>title</th>\n",
       "      <th>variety</th>\n",
       "      <th>winery</th>\n",
       "    </tr>\n",
       "  </thead>\n",
       "  <tbody>\n",
       "    <tr>\n",
       "      <th>0</th>\n",
       "      <td>0</td>\n",
       "      <td>Italy</td>\n",
       "      <td>Aromas include tropical fruit, broom, brimston...</td>\n",
       "      <td>Vulkà Bianco</td>\n",
       "      <td>87</td>\n",
       "      <td>NaN</td>\n",
       "      <td>Sicily &amp; Sardinia</td>\n",
       "      <td>Etna</td>\n",
       "      <td>NaN</td>\n",
       "      <td>Kerin O’Keefe</td>\n",
       "      <td>@kerinokeefe</td>\n",
       "      <td>Nicosia 2013 Vulkà Bianco  (Etna)</td>\n",
       "      <td>White Blend</td>\n",
       "      <td>Nicosia</td>\n",
       "    </tr>\n",
       "    <tr>\n",
       "      <th>1</th>\n",
       "      <td>1</td>\n",
       "      <td>Portugal</td>\n",
       "      <td>This is ripe and fruity, a wine that is smooth...</td>\n",
       "      <td>Avidagos</td>\n",
       "      <td>87</td>\n",
       "      <td>15.0</td>\n",
       "      <td>Douro</td>\n",
       "      <td>NaN</td>\n",
       "      <td>NaN</td>\n",
       "      <td>Roger Voss</td>\n",
       "      <td>@vossroger</td>\n",
       "      <td>Quinta dos Avidagos 2011 Avidagos Red (Douro)</td>\n",
       "      <td>Portuguese Red</td>\n",
       "      <td>Quinta dos Avidagos</td>\n",
       "    </tr>\n",
       "    <tr>\n",
       "      <th>2</th>\n",
       "      <td>2</td>\n",
       "      <td>US</td>\n",
       "      <td>Tart and snappy, the flavors of lime flesh and...</td>\n",
       "      <td>NaN</td>\n",
       "      <td>87</td>\n",
       "      <td>14.0</td>\n",
       "      <td>Oregon</td>\n",
       "      <td>Willamette Valley</td>\n",
       "      <td>Willamette Valley</td>\n",
       "      <td>Paul Gregutt</td>\n",
       "      <td>@paulgwine</td>\n",
       "      <td>Rainstorm 2013 Pinot Gris (Willamette Valley)</td>\n",
       "      <td>Pinot Gris</td>\n",
       "      <td>Rainstorm</td>\n",
       "    </tr>\n",
       "    <tr>\n",
       "      <th>3</th>\n",
       "      <td>3</td>\n",
       "      <td>US</td>\n",
       "      <td>Pineapple rind, lemon pith and orange blossom ...</td>\n",
       "      <td>Reserve Late Harvest</td>\n",
       "      <td>87</td>\n",
       "      <td>13.0</td>\n",
       "      <td>Michigan</td>\n",
       "      <td>Lake Michigan Shore</td>\n",
       "      <td>NaN</td>\n",
       "      <td>Alexander Peartree</td>\n",
       "      <td>NaN</td>\n",
       "      <td>St. Julian 2013 Reserve Late Harvest Riesling ...</td>\n",
       "      <td>Riesling</td>\n",
       "      <td>St. Julian</td>\n",
       "    </tr>\n",
       "    <tr>\n",
       "      <th>4</th>\n",
       "      <td>4</td>\n",
       "      <td>US</td>\n",
       "      <td>Much like the regular bottling from 2012, this...</td>\n",
       "      <td>Vintner's Reserve Wild Child Block</td>\n",
       "      <td>87</td>\n",
       "      <td>65.0</td>\n",
       "      <td>Oregon</td>\n",
       "      <td>Willamette Valley</td>\n",
       "      <td>Willamette Valley</td>\n",
       "      <td>Paul Gregutt</td>\n",
       "      <td>@paulgwine</td>\n",
       "      <td>Sweet Cheeks 2012 Vintner's Reserve Wild Child...</td>\n",
       "      <td>Pinot Noir</td>\n",
       "      <td>Sweet Cheeks</td>\n",
       "    </tr>\n",
       "  </tbody>\n",
       "</table>\n",
       "</div>"
      ]
     },
     "execution_count": 2,
     "metadata": {},
     "output_type": "execute_result"
    }
   ],
   "execution_count": 2
  },
  {
   "metadata": {
    "ExecuteTime": {
     "end_time": "2025-06-11T01:09:55.631244Z",
     "start_time": "2025-06-11T01:09:55.570818Z"
    }
   },
   "cell_type": "code",
   "source": [
    "# Retirar linhas incompletas\n",
    "df.dropna(axis=\"index\", how= \"any\", subset=[\"price\", \"points\", \"region_1\", \"country\", \"variety\", \"designation\"], inplace=True)\n",
    "final_lines_quantity = len(df[\"description\"])\n",
    "print(final_lines_quantity)"
   ],
   "id": "877227389d5eb85c",
   "outputs": [
    {
     "name": "stdout",
     "output_type": "stream",
     "text": [
      "70175\n"
     ]
    }
   ],
   "execution_count": 3
  },
  {
   "cell_type": "code",
   "source": [
    "# Se for feito a limpeza das descrições para tirar stop words e pontuação\n",
    "# sentence transformer já lida com o stop words e pontuação\n",
    "import nltk\n",
    "from nltk.corpus import stopwords\n",
    "import string\n",
    "\n",
    "# Baixe as stopwords se ainda não as tiver\n",
    "try:\n",
    "    stopwords.words('english')\n",
    "except LookupError:\n",
    "    nltk.download('stopwords')\n",
    "\n",
    "stop_words = set(stopwords.words('english'))\n",
    "\n",
    "def clean_text(text):\n",
    "    # Converter para lowercase\n",
    "    text = text.lower()\n",
    "    # Remover pontuação\n",
    "    text = text.translate(str.maketrans('', '', string.punctuation))\n",
    "    # Remover stopwords\n",
    "    text = ' '.join([word for word in text.split() if word not in stop_words])\n",
    "    return text\n",
    "\n",
    "# Aplicar a função de limpeza na coluna 'description'\n",
    "df['description'] = df['description'].apply(clean_text)\n",
    "df.head()"
   ],
   "metadata": {
    "colab": {
     "base_uri": "https://localhost:8080/",
     "height": 206
    },
    "id": "5NvZwotKn_df",
    "outputId": "e7d03878-768e-4853-d573-3a4479e2e591"
   },
   "id": "5NvZwotKn_df",
   "outputs": [],
   "execution_count": null
  },
  {
   "cell_type": "code",
   "source": [
    "# Usando o modelo paraphrase-multilingual-mpnet-base-v2\n",
    "from sentence_transformers import SentenceTransformer\n",
    "# Experimente com um modelo diferente, por exemplo:\n",
    "model = SentenceTransformer('paraphrase-multilingual-mpnet-base-v2')\n",
    "embeddings = model.encode(df['description'].tolist(), show_progress_bar=True)"
   ],
   "metadata": {
    "colab": {
     "base_uri": "https://localhost:8080/",
     "height": 49,
     "referenced_widgets": [
      "2e1819107b3d4e1f83c33409961286dc",
      "63b00795b754450580ec17a99e11141f",
      "20e5971bf4394130827ae627da6a97a8",
      "2dc506ce2aec489181510a6f12bbc2cd",
      "228abf223a1d43f883290a54fb3d489b",
      "1772701cc72b4674992b01a83a551b33",
      "9b62fd0950874f608da31ccd46306d19",
      "e0a14f04860141b984997455556310a2",
      "7b1cd7f00cbc4f7abbf1e6a1ee77e794",
      "b3c537fb049040d3a892313712698926",
      "14d591fab2ab443888ef5f06eb1eb89f"
     ]
    },
    "id": "odmYakiEpE9Y",
    "outputId": "3db370ec-bfa0-4f73-f784-871434ca6ba0"
   },
   "id": "odmYakiEpE9Y",
   "outputs": [],
   "execution_count": null
  },
  {
   "metadata": {},
   "cell_type": "code",
   "source": [
    "# Escrever os embeddings no disco\n",
    "# Para não calcular eles novamente\n",
    "def write_numpy_file(write_path, content):\n",
    "    np.save(write_path, content)\n",
    "\n",
    "write_numpy_file(write_path=\"embeddings_paraphrase_multilingual_mpnet_base_v2.npy\", embeddings)"
   ],
   "id": "92be82e956003da2",
   "outputs": [],
   "execution_count": null
  },
  {
   "metadata": {
    "ExecuteTime": {
     "end_time": "2025-06-11T01:16:22.632501Z",
     "start_time": "2025-06-11T01:16:22.581001Z"
    }
   },
   "cell_type": "code",
   "source": [
    "# Carregar os embeddings que estaram salvo em disco\n",
    "\n",
    "import numpy as np\n",
    "\n",
    "load_path = \"embeddings_paraphrase_multilingual_mpnet_base_v2.npy\"\n",
    "\n",
    "# Carregar os embeddings\n",
    "embeddings = np.load(load_path, allow_pickle=True)\n",
    "print(embeddings)\n",
    "print(embeddings.shape)"
   ],
   "id": "9bcf145e6c5c265f",
   "outputs": [
    {
     "ename": "UnpicklingError",
     "evalue": "Failed to interpret file 'embeddings_paraphrase_multilingual_mpnet_base_v2.npy' as a pickle",
     "output_type": "error",
     "traceback": [
      "\u001B[31m---------------------------------------------------------------------------\u001B[39m",
      "\u001B[31mUnpicklingError\u001B[39m                           Traceback (most recent call last)",
      "\u001B[36mFile \u001B[39m\u001B[32m~/PycharmProjects/Projeto-PISI3/.venv/lib/python3.13/site-packages/numpy/lib/_npyio_impl.py:491\u001B[39m, in \u001B[36mload\u001B[39m\u001B[34m(file, mmap_mode, allow_pickle, fix_imports, encoding, max_header_size)\u001B[39m\n\u001B[32m    490\u001B[39m \u001B[38;5;28;01mtry\u001B[39;00m:\n\u001B[32m--> \u001B[39m\u001B[32m491\u001B[39m     \u001B[38;5;28;01mreturn\u001B[39;00m \u001B[43mpickle\u001B[49m\u001B[43m.\u001B[49m\u001B[43mload\u001B[49m\u001B[43m(\u001B[49m\u001B[43mfid\u001B[49m\u001B[43m,\u001B[49m\u001B[43m \u001B[49m\u001B[43m*\u001B[49m\u001B[43m*\u001B[49m\u001B[43mpickle_kwargs\u001B[49m\u001B[43m)\u001B[49m\n\u001B[32m    492\u001B[39m \u001B[38;5;28;01mexcept\u001B[39;00m \u001B[38;5;167;01mException\u001B[39;00m \u001B[38;5;28;01mas\u001B[39;00m e:\n",
      "\u001B[31mUnpicklingError\u001B[39m: invalid load key, 'v'.",
      "\nThe above exception was the direct cause of the following exception:\n",
      "\u001B[31mUnpicklingError\u001B[39m                           Traceback (most recent call last)",
      "\u001B[36mCell\u001B[39m\u001B[36m \u001B[39m\u001B[32mIn[7]\u001B[39m\u001B[32m, line 8\u001B[39m\n\u001B[32m      5\u001B[39m load_path = \u001B[33m\"\u001B[39m\u001B[33membeddings_paraphrase_multilingual_mpnet_base_v2.npy\u001B[39m\u001B[33m\"\u001B[39m\n\u001B[32m      7\u001B[39m \u001B[38;5;66;03m# Carregar os embeddings\u001B[39;00m\n\u001B[32m----> \u001B[39m\u001B[32m8\u001B[39m embeddings = \u001B[43mnp\u001B[49m\u001B[43m.\u001B[49m\u001B[43mload\u001B[49m\u001B[43m(\u001B[49m\u001B[43mload_path\u001B[49m\u001B[43m,\u001B[49m\u001B[43m \u001B[49m\u001B[43mallow_pickle\u001B[49m\u001B[43m=\u001B[49m\u001B[38;5;28;43;01mTrue\u001B[39;49;00m\u001B[43m)\u001B[49m\n\u001B[32m      9\u001B[39m \u001B[38;5;28mprint\u001B[39m(embeddings)\n\u001B[32m     10\u001B[39m \u001B[38;5;28mprint\u001B[39m(embeddings.shape)\n",
      "\u001B[36mFile \u001B[39m\u001B[32m~/PycharmProjects/Projeto-PISI3/.venv/lib/python3.13/site-packages/numpy/lib/_npyio_impl.py:493\u001B[39m, in \u001B[36mload\u001B[39m\u001B[34m(file, mmap_mode, allow_pickle, fix_imports, encoding, max_header_size)\u001B[39m\n\u001B[32m    491\u001B[39m     \u001B[38;5;28;01mreturn\u001B[39;00m pickle.load(fid, **pickle_kwargs)\n\u001B[32m    492\u001B[39m \u001B[38;5;28;01mexcept\u001B[39;00m \u001B[38;5;167;01mException\u001B[39;00m \u001B[38;5;28;01mas\u001B[39;00m e:\n\u001B[32m--> \u001B[39m\u001B[32m493\u001B[39m     \u001B[38;5;28;01mraise\u001B[39;00m pickle.UnpicklingError(\n\u001B[32m    494\u001B[39m         \u001B[33mf\u001B[39m\u001B[33m\"\u001B[39m\u001B[33mFailed to interpret file \u001B[39m\u001B[38;5;132;01m{\u001B[39;00mfile\u001B[38;5;132;01m!r}\u001B[39;00m\u001B[33m as a pickle\u001B[39m\u001B[33m\"\u001B[39m) \u001B[38;5;28;01mfrom\u001B[39;00m\u001B[38;5;250m \u001B[39m\u001B[34;01me\u001B[39;00m\n",
      "\u001B[31mUnpicklingError\u001B[39m: Failed to interpret file 'embeddings_paraphrase_multilingual_mpnet_base_v2.npy' as a pickle"
     ]
    }
   ],
   "execution_count": 7
  },
  {
   "cell_type": "code",
   "source": [
    "import umap\n",
    "reducer = umap.UMAP(n_neighbors=15, min_dist=0.1, random_state=42)\n",
    "umap_2d = reducer.fit_transform(embeddings)\n"
   ],
   "metadata": {
    "colab": {
     "base_uri": "https://localhost:8080/"
    },
    "id": "FjEjgtXGp-Mo",
    "outputId": "5917501e-b9af-48a3-e78c-a3bb512e22be"
   },
   "id": "FjEjgtXGp-Mo",
   "outputs": [],
   "execution_count": null
  },
  {
   "metadata": {},
   "cell_type": "code",
   "source": [
    "# If you want to use t-SNE instead of UMAP, you can do it like this:\n",
    "from sklearn.manifold import TSNE\n",
    "tsne = TSNE(n_components=2, perplexity=30, random_state=42)\n",
    "tsne_2d = tsne.fit_transform(embeddings)\n"
   ],
   "id": "1rrugJFCv-D4",
   "outputs": [],
   "execution_count": null
  },
  {
   "metadata": {},
   "cell_type": "code",
   "source": [
    "# descobrir qual a quantidade clusteres que eu preciso utilizar no kmeans++\n",
    "import numpy as np\n",
    "import matplotlib.pyplot as plt\n",
    "from sklearn.cluster import KMeans\n",
    "\n",
    "wcss = []\n",
    "K = range(2, 11)\n",
    "for k in K:\n",
    "    kmeans = KMeans(n_clusters=k, init='k-means++', random_state=42)\n",
    "    kmeans.fit(umap_2d)\n",
    "    wcss.append(kmeans.inertia_)\n",
    "\n",
    "plt.figure(figsize=(8, 5))\n",
    "plt.plot(K, wcss, 'bo-')\n",
    "plt.xlabel('Número de clusters (k)')\n",
    "plt.ylabel('WCSS')\n",
    "plt.title('Método do Cotovelo para KMeans++')\n",
    "plt.grid(True)\n",
    "plt.show()"
   ],
   "id": "1ae39de6c6355b1e",
   "outputs": [],
   "execution_count": null
  },
  {
   "metadata": {},
   "cell_type": "code",
   "source": [
    "# Após escolher o melhor k (exemplo: k=5)\n",
    "best_k = 4\n",
    "kmeans = KMeans(n_clusters=best_k, init='k-means++', random_state=42)\n",
    "clusters = kmeans.fit_predict(umap_2d)\n",
    "df['clusters'] = clusters"
   ],
   "id": "75b2008d159e749c",
   "outputs": [],
   "execution_count": null
  },
  {
   "metadata": {},
   "cell_type": "code",
   "source": [
    "import plotly.express as px\n",
    "import pandas as pd\n",
    "\n",
    "# Supondo que umap_2d, clusters e df já estão definidos\n",
    "df_plot = pd.DataFrame({\n",
    "    'UMAP1': umap_2d[:, 0],\n",
    "    'UMAP2': umap_2d[:, 1],\n",
    "    'Cluster': clusters.astype(str),  # Para colorir por cluster\n",
    "    'Região': df['region_1'].values\n",
    "})\n",
    "\n",
    "fig = px.scatter(\n",
    "    df_plot, x='UMAP1', y='UMAP2',\n",
    "    color='Cluster',\n",
    "    hover_data=['Região'],\n",
    "    title='Clusters de Embeddings (UMAP + KMeans++)'\n",
    ")\n",
    "fig.show()"
   ],
   "id": "5189242f4eb68e4f",
   "outputs": [],
   "execution_count": null
  },
  {
   "metadata": {},
   "cell_type": "code",
   "source": [
    "# Existe diversidade na pontuação dos clusters\n",
    "media_pontos_por_cluster = df.groupby('cluster')['points'].mean()\n",
    "\n",
    "print(media_pontos_por_cluster)\n",
    "# A média da qualidade so vinho não tem relação com o cluster"
   ],
   "id": "2149ed19f4f223bf",
   "outputs": [],
   "execution_count": null
  },
  {
   "metadata": {},
   "cell_type": "code",
   "source": [
    "# Existe diversidade de preço entre os clusteres\n",
    "media_preco_por_cluster = df.groupby('cluster')['price'].mean()\n",
    "\n",
    "print(media_preco_por_cluster)"
   ],
   "id": "dac645f5230da00c",
   "outputs": [],
   "execution_count": null
  },
  {
   "metadata": {},
   "cell_type": "code",
   "source": [
    "def cross_columns_with_cluster(column: str):\n",
    "        # Tem diversidade de países em cada cluster\n",
    "    clusters_por_pais = df.groupby(column)['cluster'].nunique().sort_values(ascending=False)\n",
    "    print(clusters_por_pais)\n",
    "\n",
    "    # Para visualizar a distribuição detalhada:\n",
    "    distribuicao = pd.crosstab(df[column], df['cluster'])\n",
    "    print(distribuicao)"
   ],
   "id": "f425588af21e54b7",
   "outputs": [],
   "execution_count": null
  },
  {
   "metadata": {},
   "cell_type": "code",
   "source": "cross_columns_with_cluster('country')",
   "id": "63b848ba83db8d5c",
   "outputs": [],
   "execution_count": null
  },
  {
   "metadata": {},
   "cell_type": "code",
   "source": "print(len(df['designation']))",
   "id": "ed6958cb94fd8d02",
   "outputs": [],
   "execution_count": null
  },
  {
   "metadata": {},
   "cell_type": "code",
   "source": [
    "# Não existe diversidade nos clusteres de um mesmo tipo de vinho\n",
    "import matplotlib.pyplot as plt\n",
    "import pandas as pd\n",
    "\n",
    "# Passo 1: Conta em quantos clusters cada designation aparece\n",
    "clusters_por_designation = df.groupby('designation')['cluster'].nunique()\n",
    "\n",
    "# Passo 2: Conta quantas designations aparecem em 1, 2, 3 ou 4 clusters\n",
    "contagem = clusters_por_designation.value_counts().sort_index()\n",
    "# Garante que todos os valores de 1 a 4 estejam presentes\n",
    "contagem = contagem.reindex([1, 2, 3, 4], fill_value=0)\n",
    "\n",
    "import matplotlib.pyplot as plt\n",
    "\n",
    "# clusters_por_designation e contagem já definidos como no seu código\n",
    "\n",
    "plt.figure(figsize=(7, 4))\n",
    "bars = plt.bar(contagem.index, contagem.values, color='#4F81BD')\n",
    "plt.xlabel('Número de clusters em que a designation aparece')\n",
    "plt.ylabel('Quantidade de designations')\n",
    "plt.title('Distribuição de Designations por Número de Clusters')\n",
    "plt.xticks(contagem.index)\n",
    "plt.grid(axis='y', linestyle='--', alpha=0.6)\n",
    "\n",
    "# Adiciona os valores acima das barras\n",
    "for bar in bars:\n",
    "    yval = bar.get_height()\n",
    "    plt.text(bar.get_x() + bar.get_width()/2, yval + 10, int(yval), ha='center', va='bottom', fontsize=12)\n",
    "\n",
    "plt.tight_layout()\n",
    "plt.show()"
   ],
   "id": "75c0369fb6fabb4",
   "outputs": [],
   "execution_count": null
  },
  {
   "metadata": {},
   "cell_type": "code",
   "source": [
    "import matplotlib.pyplot as plt\n",
    "import pandas as pd\n",
    "\n",
    "def quantity_per_cluster(col: str):\n",
    "    # Seleciona as 10 designations mais populares\n",
    "    top_designations = df[col].value_counts().nlargest(10).index\n",
    "    # Filtra o DataFrame para essas designations\n",
    "    df_top = df[df[col].isin(top_designations)]\n",
    "    # Cria a tabela dinâmica: linhas = designation, colunas = cluster, valores = contagem de vinhos\n",
    "    pivot = pd.pivot_table(\n",
    "        df_top,\n",
    "        index=col,\n",
    "        columns='cluster',\n",
    "        values='country',  # pode ser qualquer coluna, pois o que importa é o count\n",
    "        aggfunc='count',\n",
    "        fill_value=0\n",
    "    )\n",
    "\n",
    "    # Ordena as designations pela popularidade\n",
    "    pivot = pivot.loc[top_designations]\n",
    "\n",
    "    # Exibe a tabela com Matplotlib\n",
    "    fig, ax = plt.subplots(figsize=(12, 5))\n",
    "    ax.axis('off')\n",
    "    tabela_plot = ax.table(\n",
    "        cellText=pivot.values,\n",
    "        rowLabels=pivot.index,\n",
    "        colLabels=[f'Cluster {c}' for c in pivot.columns],\n",
    "        cellLoc='center',\n",
    "        loc='center'\n",
    "    )\n",
    "    tabela_plot.auto_set_font_size(False)\n",
    "    tabela_plot.set_fontsize(12)\n",
    "    tabela_plot.scale(1.2, 1.2)\n",
    "    plt.title(f'Top 10 {col}: Nº de Vinhos por Cluster', fontsize=14, pad=20)\n",
    "    plt.show()"
   ],
   "id": "261fbb2b9fea31f",
   "outputs": [],
   "execution_count": null
  },
  {
   "metadata": {},
   "cell_type": "code",
   "source": [
    "import matplotlib.pyplot as plt\n",
    "import pandas as pd\n",
    "\n",
    "quantity_per_cluster('designation')"
   ],
   "id": "f3985a758823ffbf",
   "outputs": [],
   "execution_count": null
  },
  {
   "metadata": {},
   "cell_type": "code",
   "source": [
    "import matplotlib.pyplot as plt\n",
    "import pandas as pd\n",
    "\n",
    "quantity_per_cluster('variety')"
   ],
   "id": "2b63cf7839a1ae89",
   "outputs": [],
   "execution_count": null
  },
  {
   "metadata": {},
   "cell_type": "code",
   "source": "quantity_per_cluster('taster_twitter_handle')",
   "id": "a79a9ce048d95302",
   "outputs": [],
   "execution_count": null
  },
  {
   "metadata": {},
   "cell_type": "code",
   "source": [
    "import matplotlib.pyplot as plt\n",
    "\n",
    "# Contar as 10 regiões mais frequentes\n",
    "top_regions = df['region_1'].value_counts().nlargest(10).index\n",
    "\n",
    "# Filtrar o DataFrame e os embeddings para essas regiões\n",
    "mask = df['region_1'].isin(top_regions)\n",
    "filtered_x = x_coords[mask]\n",
    "filtered_y = y_coords[mask]\n",
    "filtered_regions = df['region_1'][mask].reset_index(drop=True)\n",
    "\n",
    "# Plotar apenas as 10 regiões mais frequentes\n",
    "unique_regions = filtered_regions.unique()\n",
    "colors = plt.cm.get_cmap('tab10', len(unique_regions))\n",
    "\n",
    "plt.figure(figsize=(10, 8))\n",
    "for i, region in enumerate(unique_regions):\n",
    "    region_mask = filtered_regions == region\n",
    "    plt.scatter(\n",
    "        filtered_x[region_mask],\n",
    "        filtered_y[region_mask],\n",
    "        label=region,\n",
    "        color=colors(i),\n",
    "        s=10,\n",
    "        alpha=0.6\n",
    "    )\n",
    "\n",
    "plt.title('Visualização UMAP das 10 Regiões com Mais Dados')\n",
    "plt.xlabel('UMAP Componente 1')\n",
    "plt.ylabel('UMAP Componente 2')\n",
    "plt.legend(title='Região', bbox_to_anchor=(1.05, 1), loc='upper left')\n",
    "plt.grid(True)\n",
    "plt.show()\n",
    "# Existe vinhos de uma mesma região em vários clusteres diferentes"
   ],
   "id": "IIvNym6Pv_kb",
   "outputs": [],
   "execution_count": null
  },
  {
   "metadata": {},
   "cell_type": "code",
   "source": [
    "from collections import Counter\n",
    "\n",
    "def get_top_n_words(corpus, n=None):\n",
    "    words = [word for sentence in corpus for word in sentence.split()]\n",
    "    word_counts = Counter(words)\n",
    "    return word_counts.most_common(n)\n",
    "\n",
    "# Exemplo: Top 20 palavras para cada cluster\n",
    "for cluster_id in sorted(df['cluster'].unique()):\n",
    "    print(f\"\\nTop palavras para o Cluster {cluster_id}:\")\n",
    "    cluster_descriptions = df[df['cluster'] == cluster_id]['description']\n",
    "    top_words = get_top_n_words(cluster_descriptions, n=20)\n",
    "    print(top_words)"
   ],
   "id": "e1ee972716710eac",
   "outputs": [],
   "execution_count": null
  },
  {
   "metadata": {},
   "cell_type": "code",
   "source": "print(len(embeddings))",
   "id": "45d5bf794b71f20c",
   "outputs": [],
   "execution_count": null
  }
 ],
 "metadata": {
  "kernelspec": {
   "display_name": "Python 3",
   "language": "python",
   "name": "python3"
  },
  "language_info": {
   "codemirror_mode": {
    "name": "ipython",
    "version": 3
   },
   "file_extension": ".py",
   "mimetype": "text/x-python",
   "name": "python",
   "nbconvert_exporter": "python",
   "pygments_lexer": "ipython3",
   "version": "3.12.3"
  },
  "colab": {
   "provenance": [],
   "include_colab_link": true
  },
  "widgets": {
   "application/vnd.jupyter.widget-state+json": {
    "2e1819107b3d4e1f83c33409961286dc": {
     "model_module": "@jupyter-widgets/controls",
     "model_name": "HBoxModel",
     "model_module_version": "1.5.0",
     "state": {
      "_dom_classes": [],
      "_model_module": "@jupyter-widgets/controls",
      "_model_module_version": "1.5.0",
      "_model_name": "HBoxModel",
      "_view_count": null,
      "_view_module": "@jupyter-widgets/controls",
      "_view_module_version": "1.5.0",
      "_view_name": "HBoxView",
      "box_style": "",
      "children": [
       "IPY_MODEL_63b00795b754450580ec17a99e11141f",
       "IPY_MODEL_20e5971bf4394130827ae627da6a97a8",
       "IPY_MODEL_2dc506ce2aec489181510a6f12bbc2cd"
      ],
      "layout": "IPY_MODEL_228abf223a1d43f883290a54fb3d489b"
     }
    },
    "63b00795b754450580ec17a99e11141f": {
     "model_module": "@jupyter-widgets/controls",
     "model_name": "HTMLModel",
     "model_module_version": "1.5.0",
     "state": {
      "_dom_classes": [],
      "_model_module": "@jupyter-widgets/controls",
      "_model_module_version": "1.5.0",
      "_model_name": "HTMLModel",
      "_view_count": null,
      "_view_module": "@jupyter-widgets/controls",
      "_view_module_version": "1.5.0",
      "_view_name": "HTMLView",
      "description": "",
      "description_tooltip": null,
      "layout": "IPY_MODEL_1772701cc72b4674992b01a83a551b33",
      "placeholder": "​",
      "style": "IPY_MODEL_9b62fd0950874f608da31ccd46306d19",
      "value": "Batches: 100%"
     }
    },
    "20e5971bf4394130827ae627da6a97a8": {
     "model_module": "@jupyter-widgets/controls",
     "model_name": "FloatProgressModel",
     "model_module_version": "1.5.0",
     "state": {
      "_dom_classes": [],
      "_model_module": "@jupyter-widgets/controls",
      "_model_module_version": "1.5.0",
      "_model_name": "FloatProgressModel",
      "_view_count": null,
      "_view_module": "@jupyter-widgets/controls",
      "_view_module_version": "1.5.0",
      "_view_name": "ProgressView",
      "bar_style": "success",
      "description": "",
      "description_tooltip": null,
      "layout": "IPY_MODEL_e0a14f04860141b984997455556310a2",
      "max": 500,
      "min": 0,
      "orientation": "horizontal",
      "style": "IPY_MODEL_7b1cd7f00cbc4f7abbf1e6a1ee77e794",
      "value": 500
     }
    },
    "2dc506ce2aec489181510a6f12bbc2cd": {
     "model_module": "@jupyter-widgets/controls",
     "model_name": "HTMLModel",
     "model_module_version": "1.5.0",
     "state": {
      "_dom_classes": [],
      "_model_module": "@jupyter-widgets/controls",
      "_model_module_version": "1.5.0",
      "_model_name": "HTMLModel",
      "_view_count": null,
      "_view_module": "@jupyter-widgets/controls",
      "_view_module_version": "1.5.0",
      "_view_name": "HTMLView",
      "description": "",
      "description_tooltip": null,
      "layout": "IPY_MODEL_b3c537fb049040d3a892313712698926",
      "placeholder": "​",
      "style": "IPY_MODEL_14d591fab2ab443888ef5f06eb1eb89f",
      "value": " 500/500 [03:28&lt;00:00,  4.46it/s]"
     }
    },
    "228abf223a1d43f883290a54fb3d489b": {
     "model_module": "@jupyter-widgets/base",
     "model_name": "LayoutModel",
     "model_module_version": "1.2.0",
     "state": {
      "_model_module": "@jupyter-widgets/base",
      "_model_module_version": "1.2.0",
      "_model_name": "LayoutModel",
      "_view_count": null,
      "_view_module": "@jupyter-widgets/base",
      "_view_module_version": "1.2.0",
      "_view_name": "LayoutView",
      "align_content": null,
      "align_items": null,
      "align_self": null,
      "border": null,
      "bottom": null,
      "display": null,
      "flex": null,
      "flex_flow": null,
      "grid_area": null,
      "grid_auto_columns": null,
      "grid_auto_flow": null,
      "grid_auto_rows": null,
      "grid_column": null,
      "grid_gap": null,
      "grid_row": null,
      "grid_template_areas": null,
      "grid_template_columns": null,
      "grid_template_rows": null,
      "height": null,
      "justify_content": null,
      "justify_items": null,
      "left": null,
      "margin": null,
      "max_height": null,
      "max_width": null,
      "min_height": null,
      "min_width": null,
      "object_fit": null,
      "object_position": null,
      "order": null,
      "overflow": null,
      "overflow_x": null,
      "overflow_y": null,
      "padding": null,
      "right": null,
      "top": null,
      "visibility": null,
      "width": null
     }
    },
    "1772701cc72b4674992b01a83a551b33": {
     "model_module": "@jupyter-widgets/base",
     "model_name": "LayoutModel",
     "model_module_version": "1.2.0",
     "state": {
      "_model_module": "@jupyter-widgets/base",
      "_model_module_version": "1.2.0",
      "_model_name": "LayoutModel",
      "_view_count": null,
      "_view_module": "@jupyter-widgets/base",
      "_view_module_version": "1.2.0",
      "_view_name": "LayoutView",
      "align_content": null,
      "align_items": null,
      "align_self": null,
      "border": null,
      "bottom": null,
      "display": null,
      "flex": null,
      "flex_flow": null,
      "grid_area": null,
      "grid_auto_columns": null,
      "grid_auto_flow": null,
      "grid_auto_rows": null,
      "grid_column": null,
      "grid_gap": null,
      "grid_row": null,
      "grid_template_areas": null,
      "grid_template_columns": null,
      "grid_template_rows": null,
      "height": null,
      "justify_content": null,
      "justify_items": null,
      "left": null,
      "margin": null,
      "max_height": null,
      "max_width": null,
      "min_height": null,
      "min_width": null,
      "object_fit": null,
      "object_position": null,
      "order": null,
      "overflow": null,
      "overflow_x": null,
      "overflow_y": null,
      "padding": null,
      "right": null,
      "top": null,
      "visibility": null,
      "width": null
     }
    },
    "9b62fd0950874f608da31ccd46306d19": {
     "model_module": "@jupyter-widgets/controls",
     "model_name": "DescriptionStyleModel",
     "model_module_version": "1.5.0",
     "state": {
      "_model_module": "@jupyter-widgets/controls",
      "_model_module_version": "1.5.0",
      "_model_name": "DescriptionStyleModel",
      "_view_count": null,
      "_view_module": "@jupyter-widgets/base",
      "_view_module_version": "1.2.0",
      "_view_name": "StyleView",
      "description_width": ""
     }
    },
    "e0a14f04860141b984997455556310a2": {
     "model_module": "@jupyter-widgets/base",
     "model_name": "LayoutModel",
     "model_module_version": "1.2.0",
     "state": {
      "_model_module": "@jupyter-widgets/base",
      "_model_module_version": "1.2.0",
      "_model_name": "LayoutModel",
      "_view_count": null,
      "_view_module": "@jupyter-widgets/base",
      "_view_module_version": "1.2.0",
      "_view_name": "LayoutView",
      "align_content": null,
      "align_items": null,
      "align_self": null,
      "border": null,
      "bottom": null,
      "display": null,
      "flex": null,
      "flex_flow": null,
      "grid_area": null,
      "grid_auto_columns": null,
      "grid_auto_flow": null,
      "grid_auto_rows": null,
      "grid_column": null,
      "grid_gap": null,
      "grid_row": null,
      "grid_template_areas": null,
      "grid_template_columns": null,
      "grid_template_rows": null,
      "height": null,
      "justify_content": null,
      "justify_items": null,
      "left": null,
      "margin": null,
      "max_height": null,
      "max_width": null,
      "min_height": null,
      "min_width": null,
      "object_fit": null,
      "object_position": null,
      "order": null,
      "overflow": null,
      "overflow_x": null,
      "overflow_y": null,
      "padding": null,
      "right": null,
      "top": null,
      "visibility": null,
      "width": null
     }
    },
    "7b1cd7f00cbc4f7abbf1e6a1ee77e794": {
     "model_module": "@jupyter-widgets/controls",
     "model_name": "ProgressStyleModel",
     "model_module_version": "1.5.0",
     "state": {
      "_model_module": "@jupyter-widgets/controls",
      "_model_module_version": "1.5.0",
      "_model_name": "ProgressStyleModel",
      "_view_count": null,
      "_view_module": "@jupyter-widgets/base",
      "_view_module_version": "1.2.0",
      "_view_name": "StyleView",
      "bar_color": null,
      "description_width": ""
     }
    },
    "b3c537fb049040d3a892313712698926": {
     "model_module": "@jupyter-widgets/base",
     "model_name": "LayoutModel",
     "model_module_version": "1.2.0",
     "state": {
      "_model_module": "@jupyter-widgets/base",
      "_model_module_version": "1.2.0",
      "_model_name": "LayoutModel",
      "_view_count": null,
      "_view_module": "@jupyter-widgets/base",
      "_view_module_version": "1.2.0",
      "_view_name": "LayoutView",
      "align_content": null,
      "align_items": null,
      "align_self": null,
      "border": null,
      "bottom": null,
      "display": null,
      "flex": null,
      "flex_flow": null,
      "grid_area": null,
      "grid_auto_columns": null,
      "grid_auto_flow": null,
      "grid_auto_rows": null,
      "grid_column": null,
      "grid_gap": null,
      "grid_row": null,
      "grid_template_areas": null,
      "grid_template_columns": null,
      "grid_template_rows": null,
      "height": null,
      "justify_content": null,
      "justify_items": null,
      "left": null,
      "margin": null,
      "max_height": null,
      "max_width": null,
      "min_height": null,
      "min_width": null,
      "object_fit": null,
      "object_position": null,
      "order": null,
      "overflow": null,
      "overflow_x": null,
      "overflow_y": null,
      "padding": null,
      "right": null,
      "top": null,
      "visibility": null,
      "width": null
     }
    },
    "14d591fab2ab443888ef5f06eb1eb89f": {
     "model_module": "@jupyter-widgets/controls",
     "model_name": "DescriptionStyleModel",
     "model_module_version": "1.5.0",
     "state": {
      "_model_module": "@jupyter-widgets/controls",
      "_model_module_version": "1.5.0",
      "_model_name": "DescriptionStyleModel",
      "_view_count": null,
      "_view_module": "@jupyter-widgets/base",
      "_view_module_version": "1.2.0",
      "_view_name": "StyleView",
      "description_width": ""
     }
    }
   }
  }
 },
 "nbformat": 4,
 "nbformat_minor": 5
}
